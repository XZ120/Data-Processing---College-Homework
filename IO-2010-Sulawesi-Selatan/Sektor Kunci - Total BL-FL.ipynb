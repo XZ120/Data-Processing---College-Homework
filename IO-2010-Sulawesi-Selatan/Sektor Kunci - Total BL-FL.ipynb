{
 "cells": [
  {
   "cell_type": "code",
   "execution_count": 1,
   "metadata": {},
   "outputs": [
    {
     "name": "stdout",
     "output_type": "stream",
     "text": [
      "Setup Complete\n"
     ]
    }
   ],
   "source": [
    "import pandas as pd\n",
    "import numpy as np\n",
    "import matplotlib.pyplot as plt\n",
    "%matplotlib inline\n",
    "import seaborn as sns\n",
    "print(\"Setup Complete\")"
   ]
  },
  {
   "cell_type": "markdown",
   "metadata": {},
   "source": [
    "## Load Dataset"
   ]
  },
  {
   "cell_type": "code",
   "execution_count": 2,
   "metadata": {
    "scrolled": true
   },
   "outputs": [
    {
     "data": {
      "text/html": [
       "<div>\n",
       "<style scoped>\n",
       "    .dataframe tbody tr th:only-of-type {\n",
       "        vertical-align: middle;\n",
       "    }\n",
       "\n",
       "    .dataframe tbody tr th {\n",
       "        vertical-align: top;\n",
       "    }\n",
       "\n",
       "    .dataframe thead th {\n",
       "        text-align: right;\n",
       "    }\n",
       "</style>\n",
       "<table border=\"1\" class=\"dataframe\">\n",
       "  <thead>\n",
       "    <tr style=\"text-align: right;\">\n",
       "      <th></th>\n",
       "      <th>Unnamed: 0</th>\n",
       "      <th>Unnamed: 1</th>\n",
       "      <th>1</th>\n",
       "      <th>2</th>\n",
       "      <th>3</th>\n",
       "      <th>4</th>\n",
       "      <th>5</th>\n",
       "      <th>6</th>\n",
       "      <th>7</th>\n",
       "      <th>8</th>\n",
       "      <th>...</th>\n",
       "      <th>302</th>\n",
       "      <th>303</th>\n",
       "      <th>304</th>\n",
       "      <th>305</th>\n",
       "      <th>309</th>\n",
       "      <th>310</th>\n",
       "      <th>409</th>\n",
       "      <th>509</th>\n",
       "      <th>600</th>\n",
       "      <th>700</th>\n",
       "    </tr>\n",
       "  </thead>\n",
       "  <tbody>\n",
       "    <tr>\n",
       "      <th>0</th>\n",
       "      <td>Padi</td>\n",
       "      <td>1</td>\n",
       "      <td>860269.596200</td>\n",
       "      <td>0.000000</td>\n",
       "      <td>0.000000</td>\n",
       "      <td>10359.337980</td>\n",
       "      <td>0.000000</td>\n",
       "      <td>0.000000</td>\n",
       "      <td>0.0</td>\n",
       "      <td>0.000000</td>\n",
       "      <td>...</td>\n",
       "      <td>0.0</td>\n",
       "      <td>0.0000</td>\n",
       "      <td>0.000000</td>\n",
       "      <td>0.000000e+00</td>\n",
       "      <td>0.000000e+00</td>\n",
       "      <td>1.124889e+07</td>\n",
       "      <td>0.0</td>\n",
       "      <td>0.0</td>\n",
       "      <td>1.124889e+07</td>\n",
       "      <td>1.124889e+07</td>\n",
       "    </tr>\n",
       "    <tr>\n",
       "      <th>1</th>\n",
       "      <td>Tanaman bahan makanan lainnya</td>\n",
       "      <td>2</td>\n",
       "      <td>0.000000</td>\n",
       "      <td>582084.149900</td>\n",
       "      <td>0.000000</td>\n",
       "      <td>182189.380600</td>\n",
       "      <td>0.000000</td>\n",
       "      <td>2456.429353</td>\n",
       "      <td>0.0</td>\n",
       "      <td>0.000000</td>\n",
       "      <td>...</td>\n",
       "      <td>0.0</td>\n",
       "      <td>0.0000</td>\n",
       "      <td>27830.707960</td>\n",
       "      <td>8.878554e+05</td>\n",
       "      <td>5.390295e+06</td>\n",
       "      <td>7.288266e+06</td>\n",
       "      <td>0.0</td>\n",
       "      <td>0.0</td>\n",
       "      <td>7.288266e+06</td>\n",
       "      <td>7.288266e+06</td>\n",
       "    </tr>\n",
       "    <tr>\n",
       "      <th>2</th>\n",
       "      <td>Tanaman perkebunan</td>\n",
       "      <td>3</td>\n",
       "      <td>0.901156</td>\n",
       "      <td>3531.156853</td>\n",
       "      <td>644018.173500</td>\n",
       "      <td>49761.165470</td>\n",
       "      <td>0.000000</td>\n",
       "      <td>0.000000</td>\n",
       "      <td>0.0</td>\n",
       "      <td>0.000000</td>\n",
       "      <td>...</td>\n",
       "      <td>0.0</td>\n",
       "      <td>0.0000</td>\n",
       "      <td>3412.477837</td>\n",
       "      <td>4.821600e+06</td>\n",
       "      <td>5.352460e+06</td>\n",
       "      <td>9.183128e+06</td>\n",
       "      <td>0.0</td>\n",
       "      <td>0.0</td>\n",
       "      <td>9.183128e+06</td>\n",
       "      <td>9.183128e+06</td>\n",
       "    </tr>\n",
       "    <tr>\n",
       "      <th>3</th>\n",
       "      <td>Peternakan dan hasil-hasilnya</td>\n",
       "      <td>4</td>\n",
       "      <td>100432.730100</td>\n",
       "      <td>204951.991000</td>\n",
       "      <td>40607.181690</td>\n",
       "      <td>85817.333650</td>\n",
       "      <td>0.000000</td>\n",
       "      <td>330.516666</td>\n",
       "      <td>0.0</td>\n",
       "      <td>0.000000</td>\n",
       "      <td>...</td>\n",
       "      <td>0.0</td>\n",
       "      <td>135804.8442</td>\n",
       "      <td>8884.349717</td>\n",
       "      <td>1.654981e+05</td>\n",
       "      <td>1.129234e+06</td>\n",
       "      <td>2.166391e+06</td>\n",
       "      <td>0.0</td>\n",
       "      <td>0.0</td>\n",
       "      <td>2.166391e+06</td>\n",
       "      <td>2.166391e+06</td>\n",
       "    </tr>\n",
       "    <tr>\n",
       "      <th>4</th>\n",
       "      <td>Kehutanan</td>\n",
       "      <td>5</td>\n",
       "      <td>55.120636</td>\n",
       "      <td>372.029473</td>\n",
       "      <td>971.848231</td>\n",
       "      <td>48.555593</td>\n",
       "      <td>137.652127</td>\n",
       "      <td>1281.859853</td>\n",
       "      <td>0.0</td>\n",
       "      <td>33.713091</td>\n",
       "      <td>...</td>\n",
       "      <td>0.0</td>\n",
       "      <td>0.0000</td>\n",
       "      <td>905.531144</td>\n",
       "      <td>3.540820e+04</td>\n",
       "      <td>7.836585e+04</td>\n",
       "      <td>1.529393e+05</td>\n",
       "      <td>0.0</td>\n",
       "      <td>0.0</td>\n",
       "      <td>1.529393e+05</td>\n",
       "      <td>1.529393e+05</td>\n",
       "    </tr>\n",
       "  </tbody>\n",
       "</table>\n",
       "<p>5 rows × 49 columns</p>\n",
       "</div>"
      ],
      "text/plain": [
       "                      Unnamed: 0  Unnamed: 1              1              2  \\\n",
       "0                           Padi           1  860269.596200       0.000000   \n",
       "1  Tanaman bahan makanan lainnya           2       0.000000  582084.149900   \n",
       "2             Tanaman perkebunan           3       0.901156    3531.156853   \n",
       "3  Peternakan dan hasil-hasilnya           4  100432.730100  204951.991000   \n",
       "4                      Kehutanan           5      55.120636     372.029473   \n",
       "\n",
       "               3              4           5            6    7          8  \\\n",
       "0       0.000000   10359.337980    0.000000     0.000000  0.0   0.000000   \n",
       "1       0.000000  182189.380600    0.000000  2456.429353  0.0   0.000000   \n",
       "2  644018.173500   49761.165470    0.000000     0.000000  0.0   0.000000   \n",
       "3   40607.181690   85817.333650    0.000000   330.516666  0.0   0.000000   \n",
       "4     971.848231      48.555593  137.652127  1281.859853  0.0  33.713091   \n",
       "\n",
       "       ...       302          303           304           305           309  \\\n",
       "0      ...       0.0       0.0000      0.000000  0.000000e+00  0.000000e+00   \n",
       "1      ...       0.0       0.0000  27830.707960  8.878554e+05  5.390295e+06   \n",
       "2      ...       0.0       0.0000   3412.477837  4.821600e+06  5.352460e+06   \n",
       "3      ...       0.0  135804.8442   8884.349717  1.654981e+05  1.129234e+06   \n",
       "4      ...       0.0       0.0000    905.531144  3.540820e+04  7.836585e+04   \n",
       "\n",
       "            310  409  509           600           700  \n",
       "0  1.124889e+07  0.0  0.0  1.124889e+07  1.124889e+07  \n",
       "1  7.288266e+06  0.0  0.0  7.288266e+06  7.288266e+06  \n",
       "2  9.183128e+06  0.0  0.0  9.183128e+06  9.183128e+06  \n",
       "3  2.166391e+06  0.0  0.0  2.166391e+06  2.166391e+06  \n",
       "4  1.529393e+05  0.0  0.0  1.529393e+05  1.529393e+05  \n",
       "\n",
       "[5 rows x 49 columns]"
      ]
     },
     "execution_count": 2,
     "metadata": {},
     "output_type": "execute_result"
    }
   ],
   "source": [
    "data = pd.read_csv(\"IO 2010 Sulawesi Selatan.csv\")\n",
    "data.head()"
   ]
  },
  {
   "cell_type": "code",
   "execution_count": 3,
   "metadata": {},
   "outputs": [
    {
     "data": {
      "text/html": [
       "<div>\n",
       "<style scoped>\n",
       "    .dataframe tbody tr th:only-of-type {\n",
       "        vertical-align: middle;\n",
       "    }\n",
       "\n",
       "    .dataframe tbody tr th {\n",
       "        vertical-align: top;\n",
       "    }\n",
       "\n",
       "    .dataframe thead th {\n",
       "        text-align: right;\n",
       "    }\n",
       "</style>\n",
       "<table border=\"1\" class=\"dataframe\">\n",
       "  <thead>\n",
       "    <tr style=\"text-align: right;\">\n",
       "      <th></th>\n",
       "      <th>Unnamed: 0</th>\n",
       "      <th>Unnamed: 1</th>\n",
       "      <th>1</th>\n",
       "      <th>2</th>\n",
       "      <th>3</th>\n",
       "      <th>4</th>\n",
       "      <th>5</th>\n",
       "      <th>6</th>\n",
       "      <th>7</th>\n",
       "      <th>8</th>\n",
       "      <th>...</th>\n",
       "      <th>302</th>\n",
       "      <th>303</th>\n",
       "      <th>304</th>\n",
       "      <th>305</th>\n",
       "      <th>309</th>\n",
       "      <th>310</th>\n",
       "      <th>409</th>\n",
       "      <th>509</th>\n",
       "      <th>600</th>\n",
       "      <th>700</th>\n",
       "    </tr>\n",
       "  </thead>\n",
       "  <tbody>\n",
       "    <tr>\n",
       "      <th>39</th>\n",
       "      <td>Penyusutan</td>\n",
       "      <td>203</td>\n",
       "      <td>1.452299e+05</td>\n",
       "      <td>2.587877e+04</td>\n",
       "      <td>1.147662e+05</td>\n",
       "      <td>2.883109e+04</td>\n",
       "      <td>5119.723838</td>\n",
       "      <td>2.872259e+05</td>\n",
       "      <td>10511.751150</td>\n",
       "      <td>8.300689e+05</td>\n",
       "      <td>...</td>\n",
       "      <td>NaN</td>\n",
       "      <td>NaN</td>\n",
       "      <td>NaN</td>\n",
       "      <td>NaN</td>\n",
       "      <td>NaN</td>\n",
       "      <td>NaN</td>\n",
       "      <td>NaN</td>\n",
       "      <td>NaN</td>\n",
       "      <td>NaN</td>\n",
       "      <td>NaN</td>\n",
       "    </tr>\n",
       "    <tr>\n",
       "      <th>40</th>\n",
       "      <td>Pajak Tak Langsung</td>\n",
       "      <td>204</td>\n",
       "      <td>6.937260e+04</td>\n",
       "      <td>5.641550e+04</td>\n",
       "      <td>3.815486e+04</td>\n",
       "      <td>1.665497e+04</td>\n",
       "      <td>1064.637014</td>\n",
       "      <td>6.872361e+04</td>\n",
       "      <td>2272.474521</td>\n",
       "      <td>3.013393e+05</td>\n",
       "      <td>...</td>\n",
       "      <td>NaN</td>\n",
       "      <td>NaN</td>\n",
       "      <td>NaN</td>\n",
       "      <td>NaN</td>\n",
       "      <td>NaN</td>\n",
       "      <td>NaN</td>\n",
       "      <td>NaN</td>\n",
       "      <td>NaN</td>\n",
       "      <td>NaN</td>\n",
       "      <td>NaN</td>\n",
       "    </tr>\n",
       "    <tr>\n",
       "      <th>41</th>\n",
       "      <td>Subsidi</td>\n",
       "      <td>205</td>\n",
       "      <td>0.000000e+00</td>\n",
       "      <td>0.000000e+00</td>\n",
       "      <td>0.000000e+00</td>\n",
       "      <td>0.000000e+00</td>\n",
       "      <td>0.000000</td>\n",
       "      <td>0.000000e+00</td>\n",
       "      <td>0.000000</td>\n",
       "      <td>0.000000e+00</td>\n",
       "      <td>...</td>\n",
       "      <td>NaN</td>\n",
       "      <td>NaN</td>\n",
       "      <td>NaN</td>\n",
       "      <td>NaN</td>\n",
       "      <td>NaN</td>\n",
       "      <td>NaN</td>\n",
       "      <td>NaN</td>\n",
       "      <td>NaN</td>\n",
       "      <td>NaN</td>\n",
       "      <td>NaN</td>\n",
       "    </tr>\n",
       "    <tr>\n",
       "      <th>42</th>\n",
       "      <td>Nilai Tambah Bruto</td>\n",
       "      <td>209</td>\n",
       "      <td>8.658558e+06</td>\n",
       "      <td>6.108251e+06</td>\n",
       "      <td>6.305311e+06</td>\n",
       "      <td>1.541825e+06</td>\n",
       "      <td>122502.675300</td>\n",
       "      <td>7.705983e+06</td>\n",
       "      <td>218219.567500</td>\n",
       "      <td>6.901461e+06</td>\n",
       "      <td>...</td>\n",
       "      <td>NaN</td>\n",
       "      <td>NaN</td>\n",
       "      <td>NaN</td>\n",
       "      <td>NaN</td>\n",
       "      <td>NaN</td>\n",
       "      <td>NaN</td>\n",
       "      <td>NaN</td>\n",
       "      <td>NaN</td>\n",
       "      <td>NaN</td>\n",
       "      <td>NaN</td>\n",
       "    </tr>\n",
       "    <tr>\n",
       "      <th>43</th>\n",
       "      <td>Jumlah Input</td>\n",
       "      <td>210</td>\n",
       "      <td>1.124889e+07</td>\n",
       "      <td>7.288266e+06</td>\n",
       "      <td>9.183128e+06</td>\n",
       "      <td>2.166391e+06</td>\n",
       "      <td>152939.335200</td>\n",
       "      <td>8.630996e+06</td>\n",
       "      <td>341949.506400</td>\n",
       "      <td>1.032085e+07</td>\n",
       "      <td>...</td>\n",
       "      <td>NaN</td>\n",
       "      <td>NaN</td>\n",
       "      <td>NaN</td>\n",
       "      <td>NaN</td>\n",
       "      <td>NaN</td>\n",
       "      <td>NaN</td>\n",
       "      <td>NaN</td>\n",
       "      <td>NaN</td>\n",
       "      <td>NaN</td>\n",
       "      <td>NaN</td>\n",
       "    </tr>\n",
       "  </tbody>\n",
       "</table>\n",
       "<p>5 rows × 49 columns</p>\n",
       "</div>"
      ],
      "text/plain": [
       "             Unnamed: 0  Unnamed: 1             1             2             3  \\\n",
       "39           Penyusutan         203  1.452299e+05  2.587877e+04  1.147662e+05   \n",
       "40  Pajak Tak Langsung          204  6.937260e+04  5.641550e+04  3.815486e+04   \n",
       "41              Subsidi         205  0.000000e+00  0.000000e+00  0.000000e+00   \n",
       "42   Nilai Tambah Bruto         209  8.658558e+06  6.108251e+06  6.305311e+06   \n",
       "43         Jumlah Input         210  1.124889e+07  7.288266e+06  9.183128e+06   \n",
       "\n",
       "               4              5             6              7             8  \\\n",
       "39  2.883109e+04    5119.723838  2.872259e+05   10511.751150  8.300689e+05   \n",
       "40  1.665497e+04    1064.637014  6.872361e+04    2272.474521  3.013393e+05   \n",
       "41  0.000000e+00       0.000000  0.000000e+00       0.000000  0.000000e+00   \n",
       "42  1.541825e+06  122502.675300  7.705983e+06  218219.567500  6.901461e+06   \n",
       "43  2.166391e+06  152939.335200  8.630996e+06  341949.506400  1.032085e+07   \n",
       "\n",
       "   ...   302  303  304  305  309  310  409  509  600  700  \n",
       "39 ...   NaN  NaN  NaN  NaN  NaN  NaN  NaN  NaN  NaN  NaN  \n",
       "40 ...   NaN  NaN  NaN  NaN  NaN  NaN  NaN  NaN  NaN  NaN  \n",
       "41 ...   NaN  NaN  NaN  NaN  NaN  NaN  NaN  NaN  NaN  NaN  \n",
       "42 ...   NaN  NaN  NaN  NaN  NaN  NaN  NaN  NaN  NaN  NaN  \n",
       "43 ...   NaN  NaN  NaN  NaN  NaN  NaN  NaN  NaN  NaN  NaN  \n",
       "\n",
       "[5 rows x 49 columns]"
      ]
     },
     "execution_count": 3,
     "metadata": {},
     "output_type": "execute_result"
    }
   ],
   "source": [
    "data.tail()"
   ]
  },
  {
   "cell_type": "code",
   "execution_count": 4,
   "metadata": {},
   "outputs": [
    {
     "name": "stdout",
     "output_type": "stream",
     "text": [
      "<class 'pandas.core.frame.DataFrame'>\n",
      "RangeIndex: 44 entries, 0 to 43\n",
      "Data columns (total 49 columns):\n",
      "Sektor    44 non-null object\n",
      "Kode      44 non-null int64\n",
      "1         44 non-null float64\n",
      "2         44 non-null float64\n",
      "3         44 non-null float64\n",
      "4         44 non-null float64\n",
      "5         44 non-null float64\n",
      "6         44 non-null float64\n",
      "7         44 non-null float64\n",
      "8         44 non-null float64\n",
      "9         44 non-null int64\n",
      "10        44 non-null float64\n",
      "11        44 non-null float64\n",
      "12        44 non-null float64\n",
      "13        44 non-null float64\n",
      "14        44 non-null float64\n",
      "15        44 non-null float64\n",
      "16        44 non-null float64\n",
      "17        44 non-null float64\n",
      "18        44 non-null float64\n",
      "19        44 non-null float64\n",
      "20        44 non-null float64\n",
      "21        44 non-null float64\n",
      "22        44 non-null float64\n",
      "23        44 non-null float64\n",
      "24        44 non-null float64\n",
      "25        44 non-null float64\n",
      "26        44 non-null float64\n",
      "27        44 non-null float64\n",
      "28        44 non-null float64\n",
      "29        44 non-null float64\n",
      "30        44 non-null float64\n",
      "31        44 non-null float64\n",
      "32        44 non-null float64\n",
      "33        44 non-null float64\n",
      "34        44 non-null float64\n",
      "35        44 non-null float64\n",
      "180       44 non-null float64\n",
      "301       37 non-null float64\n",
      "302       37 non-null float64\n",
      "303       37 non-null float64\n",
      "304       37 non-null float64\n",
      "305       37 non-null float64\n",
      "309       37 non-null float64\n",
      "310       37 non-null float64\n",
      "409       37 non-null float64\n",
      "509       37 non-null float64\n",
      "600       37 non-null float64\n",
      "700       37 non-null float64\n",
      "dtypes: float64(46), int64(2), object(1)\n",
      "memory usage: 16.9+ KB\n"
     ]
    }
   ],
   "source": [
    "data.rename( columns={'Unnamed: 0':'Sektor', 'Unnamed: 1':'Kode'}, inplace=True )\n",
    "data.info()"
   ]
  },
  {
   "cell_type": "markdown",
   "metadata": {},
   "source": [
    "## Matrix A"
   ]
  },
  {
   "cell_type": "code",
   "execution_count": 5,
   "metadata": {},
   "outputs": [
    {
     "data": {
      "text/html": [
       "<div>\n",
       "<style scoped>\n",
       "    .dataframe tbody tr th:only-of-type {\n",
       "        vertical-align: middle;\n",
       "    }\n",
       "\n",
       "    .dataframe tbody tr th {\n",
       "        vertical-align: top;\n",
       "    }\n",
       "\n",
       "    .dataframe thead th {\n",
       "        text-align: right;\n",
       "    }\n",
       "</style>\n",
       "<table border=\"1\" class=\"dataframe\">\n",
       "  <thead>\n",
       "    <tr style=\"text-align: right;\">\n",
       "      <th></th>\n",
       "      <th>1</th>\n",
       "      <th>2</th>\n",
       "      <th>3</th>\n",
       "      <th>4</th>\n",
       "      <th>5</th>\n",
       "      <th>6</th>\n",
       "      <th>7</th>\n",
       "      <th>8</th>\n",
       "      <th>9</th>\n",
       "      <th>10</th>\n",
       "      <th>...</th>\n",
       "      <th>26</th>\n",
       "      <th>27</th>\n",
       "      <th>28</th>\n",
       "      <th>29</th>\n",
       "      <th>30</th>\n",
       "      <th>31</th>\n",
       "      <th>32</th>\n",
       "      <th>33</th>\n",
       "      <th>34</th>\n",
       "      <th>35</th>\n",
       "    </tr>\n",
       "  </thead>\n",
       "  <tbody>\n",
       "    <tr>\n",
       "      <th>30</th>\n",
       "      <td>3743.743622</td>\n",
       "      <td>12615.745520</td>\n",
       "      <td>19866.223940</td>\n",
       "      <td>4997.007998</td>\n",
       "      <td>520.528403</td>\n",
       "      <td>12308.320550</td>\n",
       "      <td>3034.314396</td>\n",
       "      <td>402704.377700</td>\n",
       "      <td>0</td>\n",
       "      <td>5178.198506</td>\n",
       "      <td>...</td>\n",
       "      <td>105917.39100</td>\n",
       "      <td>138251.392700</td>\n",
       "      <td>34613.14768</td>\n",
       "      <td>2326.477078</td>\n",
       "      <td>2810.614248</td>\n",
       "      <td>334696.754300</td>\n",
       "      <td>72981.91809</td>\n",
       "      <td>4.066154e+04</td>\n",
       "      <td>4.254848e+05</td>\n",
       "      <td>2893.575190</td>\n",
       "    </tr>\n",
       "    <tr>\n",
       "      <th>31</th>\n",
       "      <td>1185.584115</td>\n",
       "      <td>5772.949342</td>\n",
       "      <td>4722.638898</td>\n",
       "      <td>1515.836749</td>\n",
       "      <td>215.115812</td>\n",
       "      <td>5152.120281</td>\n",
       "      <td>263.303981</td>\n",
       "      <td>12983.477990</td>\n",
       "      <td>0</td>\n",
       "      <td>1704.741704</td>\n",
       "      <td>...</td>\n",
       "      <td>50763.07169</td>\n",
       "      <td>242383.421600</td>\n",
       "      <td>16207.09331</td>\n",
       "      <td>70074.130360</td>\n",
       "      <td>44552.119400</td>\n",
       "      <td>87720.902270</td>\n",
       "      <td>273359.20490</td>\n",
       "      <td>4.605670e+04</td>\n",
       "      <td>1.214648e+06</td>\n",
       "      <td>3722.121816</td>\n",
       "    </tr>\n",
       "    <tr>\n",
       "      <th>32</th>\n",
       "      <td>173531.401300</td>\n",
       "      <td>65510.072460</td>\n",
       "      <td>231213.093300</td>\n",
       "      <td>9226.947703</td>\n",
       "      <td>7973.510287</td>\n",
       "      <td>96451.519420</td>\n",
       "      <td>86609.491590</td>\n",
       "      <td>79132.710210</td>\n",
       "      <td>0</td>\n",
       "      <td>315.907155</td>\n",
       "      <td>...</td>\n",
       "      <td>350474.01410</td>\n",
       "      <td>791182.442200</td>\n",
       "      <td>9624.00534</td>\n",
       "      <td>186209.002000</td>\n",
       "      <td>17643.794460</td>\n",
       "      <td>77181.600910</td>\n",
       "      <td>70381.48052</td>\n",
       "      <td>1.025157e+06</td>\n",
       "      <td>2.720107e+05</td>\n",
       "      <td>39668.729670</td>\n",
       "    </tr>\n",
       "    <tr>\n",
       "      <th>33</th>\n",
       "      <td>0.000000</td>\n",
       "      <td>0.000000</td>\n",
       "      <td>0.000000</td>\n",
       "      <td>0.000000</td>\n",
       "      <td>0.000000</td>\n",
       "      <td>0.000000</td>\n",
       "      <td>0.000000</td>\n",
       "      <td>0.000000</td>\n",
       "      <td>0</td>\n",
       "      <td>0.000000</td>\n",
       "      <td>...</td>\n",
       "      <td>0.00000</td>\n",
       "      <td>0.000000</td>\n",
       "      <td>0.00000</td>\n",
       "      <td>0.000000</td>\n",
       "      <td>0.000000</td>\n",
       "      <td>0.000000</td>\n",
       "      <td>0.00000</td>\n",
       "      <td>1.560871e-01</td>\n",
       "      <td>0.000000e+00</td>\n",
       "      <td>0.000000</td>\n",
       "    </tr>\n",
       "    <tr>\n",
       "      <th>34</th>\n",
       "      <td>2015.786614</td>\n",
       "      <td>1896.493266</td>\n",
       "      <td>7867.852625</td>\n",
       "      <td>847.263499</td>\n",
       "      <td>730.432787</td>\n",
       "      <td>650.642870</td>\n",
       "      <td>562.535946</td>\n",
       "      <td>2966.602608</td>\n",
       "      <td>0</td>\n",
       "      <td>33.977372</td>\n",
       "      <td>...</td>\n",
       "      <td>13833.95433</td>\n",
       "      <td>9494.223231</td>\n",
       "      <td>851.43087</td>\n",
       "      <td>125043.301700</td>\n",
       "      <td>434.577375</td>\n",
       "      <td>3013.151661</td>\n",
       "      <td>15069.10638</td>\n",
       "      <td>1.965451e+04</td>\n",
       "      <td>2.954665e+04</td>\n",
       "      <td>12663.464620</td>\n",
       "    </tr>\n",
       "  </tbody>\n",
       "</table>\n",
       "<p>5 rows × 35 columns</p>\n",
       "</div>"
      ],
      "text/plain": [
       "                1             2              3            4            5  \\\n",
       "30    3743.743622  12615.745520   19866.223940  4997.007998   520.528403   \n",
       "31    1185.584115   5772.949342    4722.638898  1515.836749   215.115812   \n",
       "32  173531.401300  65510.072460  231213.093300  9226.947703  7973.510287   \n",
       "33       0.000000      0.000000       0.000000     0.000000     0.000000   \n",
       "34    2015.786614   1896.493266    7867.852625   847.263499   730.432787   \n",
       "\n",
       "               6             7              8  9           10      ...       \\\n",
       "30  12308.320550   3034.314396  402704.377700  0  5178.198506      ...        \n",
       "31   5152.120281    263.303981   12983.477990  0  1704.741704      ...        \n",
       "32  96451.519420  86609.491590   79132.710210  0   315.907155      ...        \n",
       "33      0.000000      0.000000       0.000000  0     0.000000      ...        \n",
       "34    650.642870    562.535946    2966.602608  0    33.977372      ...        \n",
       "\n",
       "              26             27           28             29            30  \\\n",
       "30  105917.39100  138251.392700  34613.14768    2326.477078   2810.614248   \n",
       "31   50763.07169  242383.421600  16207.09331   70074.130360  44552.119400   \n",
       "32  350474.01410  791182.442200   9624.00534  186209.002000  17643.794460   \n",
       "33       0.00000       0.000000      0.00000       0.000000      0.000000   \n",
       "34   13833.95433    9494.223231    851.43087  125043.301700    434.577375   \n",
       "\n",
       "               31            32            33            34            35  \n",
       "30  334696.754300   72981.91809  4.066154e+04  4.254848e+05   2893.575190  \n",
       "31   87720.902270  273359.20490  4.605670e+04  1.214648e+06   3722.121816  \n",
       "32   77181.600910   70381.48052  1.025157e+06  2.720107e+05  39668.729670  \n",
       "33       0.000000       0.00000  1.560871e-01  0.000000e+00      0.000000  \n",
       "34    3013.151661   15069.10638  1.965451e+04  2.954665e+04  12663.464620  \n",
       "\n",
       "[5 rows x 35 columns]"
      ]
     },
     "execution_count": 5,
     "metadata": {},
     "output_type": "execute_result"
    }
   ],
   "source": [
    "a = data.iloc[:35, :37]\n",
    "del a[\"Sektor\"] , a[\"Kode\"]\n",
    "a.tail()"
   ]
  },
  {
   "cell_type": "code",
   "execution_count": 6,
   "metadata": {},
   "outputs": [
    {
     "data": {
      "text/html": [
       "<div>\n",
       "<style scoped>\n",
       "    .dataframe tbody tr th:only-of-type {\n",
       "        vertical-align: middle;\n",
       "    }\n",
       "\n",
       "    .dataframe tbody tr th {\n",
       "        vertical-align: top;\n",
       "    }\n",
       "\n",
       "    .dataframe thead th {\n",
       "        text-align: right;\n",
       "    }\n",
       "</style>\n",
       "<table border=\"1\" class=\"dataframe\">\n",
       "  <thead>\n",
       "    <tr style=\"text-align: right;\">\n",
       "      <th></th>\n",
       "      <th>1</th>\n",
       "      <th>2</th>\n",
       "      <th>3</th>\n",
       "      <th>4</th>\n",
       "      <th>5</th>\n",
       "      <th>6</th>\n",
       "      <th>7</th>\n",
       "      <th>8</th>\n",
       "      <th>9</th>\n",
       "      <th>10</th>\n",
       "      <th>...</th>\n",
       "      <th>26</th>\n",
       "      <th>27</th>\n",
       "      <th>28</th>\n",
       "      <th>29</th>\n",
       "      <th>30</th>\n",
       "      <th>31</th>\n",
       "      <th>32</th>\n",
       "      <th>33</th>\n",
       "      <th>34</th>\n",
       "      <th>35</th>\n",
       "    </tr>\n",
       "  </thead>\n",
       "  <tbody>\n",
       "    <tr>\n",
       "      <th>43</th>\n",
       "      <td>11248891.52</td>\n",
       "      <td>7288265.63</td>\n",
       "      <td>9183127.86</td>\n",
       "      <td>2166391.208</td>\n",
       "      <td>152939.3352</td>\n",
       "      <td>8630995.631</td>\n",
       "      <td>341949.5064</td>\n",
       "      <td>10320846.52</td>\n",
       "      <td>0</td>\n",
       "      <td>663934.8121</td>\n",
       "      <td>...</td>\n",
       "      <td>20981684.9</td>\n",
       "      <td>20833083.38</td>\n",
       "      <td>4930711.36</td>\n",
       "      <td>6189809.316</td>\n",
       "      <td>1853847.917</td>\n",
       "      <td>4145553.939</td>\n",
       "      <td>3035967.829</td>\n",
       "      <td>9565159.283</td>\n",
       "      <td>32627340.14</td>\n",
       "      <td>1032523.337</td>\n",
       "    </tr>\n",
       "  </tbody>\n",
       "</table>\n",
       "<p>1 rows × 35 columns</p>\n",
       "</div>"
      ],
      "text/plain": [
       "              1           2           3            4            5  \\\n",
       "43  11248891.52  7288265.63  9183127.86  2166391.208  152939.3352   \n",
       "\n",
       "              6            7            8  9           10     ...       \\\n",
       "43  8630995.631  341949.5064  10320846.52  0  663934.8121     ...        \n",
       "\n",
       "            26           27          28           29           30  \\\n",
       "43  20981684.9  20833083.38  4930711.36  6189809.316  1853847.917   \n",
       "\n",
       "             31           32           33           34           35  \n",
       "43  4145553.939  3035967.829  9565159.283  32627340.14  1032523.337  \n",
       "\n",
       "[1 rows x 35 columns]"
      ]
     },
     "execution_count": 6,
     "metadata": {},
     "output_type": "execute_result"
    }
   ],
   "source": [
    "jumlah = data.iloc[-1:, :37]\n",
    "del jumlah[\"Sektor\"] , jumlah[\"Kode\"]\n",
    "jumlah.head()"
   ]
  },
  {
   "cell_type": "code",
   "execution_count": 7,
   "metadata": {},
   "outputs": [
    {
     "data": {
      "text/plain": [
       "(array([[8.60269596e+05, 0.00000000e+00, 0.00000000e+00, ...,\n",
       "         3.99480628e+02, 1.87270591e+02, 9.11954677e+00],\n",
       "        [0.00000000e+00, 5.82084150e+05, 0.00000000e+00, ...,\n",
       "         2.70570670e+03, 1.04214573e+05, 1.49737588e+04],\n",
       "        [9.01156375e-01, 3.53115685e+03, 6.44018174e+05, ...,\n",
       "         2.47815250e+01, 6.73316928e+03, 2.76412648e+03],\n",
       "        ...,\n",
       "        [1.73531401e+05, 6.55100725e+04, 2.31213093e+05, ...,\n",
       "         1.02515650e+06, 2.72010730e+05, 3.96687297e+04],\n",
       "        [0.00000000e+00, 0.00000000e+00, 0.00000000e+00, ...,\n",
       "         1.56087110e-01, 0.00000000e+00, 0.00000000e+00],\n",
       "        [2.01578661e+03, 1.89649327e+03, 7.86785263e+03, ...,\n",
       "         1.96545126e+04, 2.95466451e+04, 1.26634646e+04]]),\n",
       " array([[1.12488915e+07, 7.28826563e+06, 9.18312786e+06, 2.16639121e+06,\n",
       "         1.52939335e+05, 8.63099563e+06, 3.41949506e+05, 1.03208465e+07,\n",
       "         0.00000000e+00, 6.63934812e+05, 4.19455999e+06, 2.61105087e+07,\n",
       "         2.97457171e+05, 1.11495822e+05, 2.75090822e+06, 1.37422471e+06,\n",
       "         2.74636306e+05, 1.85645361e+04, 8.34495053e+06, 1.03085779e+06,\n",
       "         1.71919646e+05, 1.77345287e+03, 5.17372108e+05, 2.71005809e+05,\n",
       "         3.49863344e+06, 2.09816849e+07, 2.08330834e+07, 4.93071136e+06,\n",
       "         6.18980932e+06, 1.85384792e+06, 4.14555394e+06, 3.03596783e+06,\n",
       "         9.56515928e+06, 3.26273401e+07, 1.03252334e+06]]))"
      ]
     },
     "execution_count": 7,
     "metadata": {},
     "output_type": "execute_result"
    }
   ],
   "source": [
    "aa = np.array(a)\n",
    "bb = np.array(jumlah)\n",
    "aa , bb"
   ]
  },
  {
   "cell_type": "code",
   "execution_count": 8,
   "metadata": {},
   "outputs": [
    {
     "data": {
      "text/plain": [
       "array([[7.64759438e-02, 0.00000000e+00, 0.00000000e+00, ...,\n",
       "        4.17641375e-05, 5.73968305e-06, 8.83229119e-06],\n",
       "       [0.00000000e+00, 7.98659351e-02, 0.00000000e+00, ...,\n",
       "        2.82871056e-04, 3.19408731e-03, 1.45021020e-02],\n",
       "       [8.01106823e-08, 4.84498924e-04, 7.01305899e-02, ...,\n",
       "        2.59081153e-06, 2.06365865e-04, 2.67705957e-03],\n",
       "       ...,\n",
       "       [1.54265334e-02, 8.98843096e-03, 2.51780327e-02, ...,\n",
       "        1.07176104e-01, 8.33689564e-03, 3.84192088e-02],\n",
       "       [0.00000000e+00, 0.00000000e+00, 0.00000000e+00, ...,\n",
       "        1.63182970e-08, 0.00000000e+00, 0.00000000e+00],\n",
       "       [1.79198689e-04, 2.60211875e-04, 8.56772632e-04, ...,\n",
       "        2.05480243e-03, 9.05579340e-04, 1.22645796e-02]])"
      ]
     },
     "execution_count": 8,
     "metadata": {},
     "output_type": "execute_result"
    }
   ],
   "source": [
    "matrix_a = np.divide(aa,bb, out=np.zeros_like(aa), where=bb!=0)\n",
    "matrix_a "
   ]
  },
  {
   "cell_type": "code",
   "execution_count": 9,
   "metadata": {},
   "outputs": [
    {
     "data": {
      "text/plain": [
       "array([[1., 0., 0., ..., 0., 0., 0.],\n",
       "       [0., 1., 0., ..., 0., 0., 0.],\n",
       "       [0., 0., 1., ..., 0., 0., 0.],\n",
       "       ...,\n",
       "       [0., 0., 0., ..., 1., 0., 0.],\n",
       "       [0., 0., 0., ..., 0., 1., 0.],\n",
       "       [0., 0., 0., ..., 0., 0., 1.]])"
      ]
     },
     "execution_count": 9,
     "metadata": {},
     "output_type": "execute_result"
    }
   ],
   "source": [
    "# Make identity matrix\n",
    "identitas = np.identity(35, dtype = None)\n",
    "identitas"
   ]
  },
  {
   "cell_type": "code",
   "execution_count": 10,
   "metadata": {
    "scrolled": true
   },
   "outputs": [
    {
     "data": {
      "text/plain": [
       "array([[ 9.23524056e-01,  0.00000000e+00,  0.00000000e+00, ...,\n",
       "        -4.17641375e-05, -5.73968305e-06, -8.83229119e-06],\n",
       "       [ 0.00000000e+00,  9.20134065e-01,  0.00000000e+00, ...,\n",
       "        -2.82871056e-04, -3.19408731e-03, -1.45021020e-02],\n",
       "       [-8.01106823e-08, -4.84498924e-04,  9.29869410e-01, ...,\n",
       "        -2.59081153e-06, -2.06365865e-04, -2.67705957e-03],\n",
       "       ...,\n",
       "       [-1.54265334e-02, -8.98843096e-03, -2.51780327e-02, ...,\n",
       "         8.92823896e-01, -8.33689564e-03, -3.84192088e-02],\n",
       "       [ 0.00000000e+00,  0.00000000e+00,  0.00000000e+00, ...,\n",
       "        -1.63182970e-08,  1.00000000e+00,  0.00000000e+00],\n",
       "       [-1.79198689e-04, -2.60211875e-04, -8.56772632e-04, ...,\n",
       "        -2.05480243e-03, -9.05579340e-04,  9.87735420e-01]])"
      ]
     },
     "execution_count": 10,
     "metadata": {},
     "output_type": "execute_result"
    }
   ],
   "source": [
    "i_a = np.subtract(identitas,matrix_a)\n",
    "i_a"
   ]
  },
  {
   "cell_type": "code",
   "execution_count": 11,
   "metadata": {},
   "outputs": [
    {
     "data": {
      "text/plain": [
       "array([[1.08306502e+00, 1.08156128e-03, 9.85669645e-04, ...,\n",
       "        1.27808660e-03, 7.34399193e-03, 2.26223008e-02],\n",
       "       [9.63991943e-04, 1.08992357e+00, 6.92688144e-04, ...,\n",
       "        8.83637423e-04, 5.22606966e-03, 1.91518173e-02],\n",
       "       [3.50311515e-04, 1.76103563e-03, 1.07592503e+00, ...,\n",
       "        5.10323278e-04, 2.77404332e-03, 1.06846744e-02],\n",
       "       ...,\n",
       "       [1.93033939e-02, 1.30455340e-02, 3.20991730e-02, ...,\n",
       "        1.12377997e+00, 1.51431530e-02, 5.02245799e-02],\n",
       "       [3.14998515e-10, 2.12880899e-10, 5.23803838e-10, ...,\n",
       "        1.83381753e-08, 1.00000000e+00, 8.19579612e-10],\n",
       "       [3.08534085e-04, 5.15573268e-04, 1.29236451e-03, ...,\n",
       "        2.64265738e-03, 1.78096443e-03, 1.01296065e+00]])"
      ]
     },
     "execution_count": 11,
     "metadata": {},
     "output_type": "execute_result"
    }
   ],
   "source": [
    "BL = np.linalg.inv(i_a)\n",
    "BL"
   ]
  },
  {
   "cell_type": "code",
   "execution_count": 12,
   "metadata": {},
   "outputs": [
    {
     "data": {
      "text/plain": [
       "array([1.12898873, 1.19278679, 1.16859745, 1.32095795, 1.17796072,\n",
       "       1.11744987, 1.36988881, 1.15449775, 1.        , 2.07298305,\n",
       "       1.63980431, 2.08485381, 1.68275855, 1.15895186, 1.24327345,\n",
       "       1.47669623, 1.30152716, 1.28498265, 1.29659551, 1.54268328,\n",
       "       1.45688727, 1.17262839, 1.09625717, 1.04495475, 1.20499074,\n",
       "       1.69910175, 1.13763834, 1.93699058, 1.30898812, 1.43124216,\n",
       "       1.50095096, 1.35403222, 1.25378148, 1.2438781 , 1.31527985])"
      ]
     },
     "execution_count": 12,
     "metadata": {},
     "output_type": "execute_result"
    }
   ],
   "source": [
    "BL_per_sector = BL.sum(axis=0)\n",
    "BL_per_sector"
   ]
  },
  {
   "cell_type": "code",
   "execution_count": 13,
   "metadata": {},
   "outputs": [
    {
     "data": {
      "text/plain": [
       "array([1.80932045, 1.32594018, 2.5109168 , 1.2368494 , 1.04007626,\n",
       "       1.65243767, 1.1995261 , 1.08113728, 1.        , 1.07807465,\n",
       "       1.03571423, 1.67282158, 1.29389469, 1.01039905, 1.15862068,\n",
       "       1.37989816, 1.00705764, 1.00623092, 1.38821531, 1.85005716,\n",
       "       1.06874103, 1.00005464, 1.06782472, 1.06018684, 1.90087738,\n",
       "       1.24837574, 2.19403185, 1.32974621, 1.59489598, 1.14082179,\n",
       "       1.33555534, 1.3658676 , 2.44009373, 1.00000004, 1.08957868])"
      ]
     },
     "execution_count": 13,
     "metadata": {},
     "output_type": "execute_result"
    }
   ],
   "source": [
    "BL_per_sector1 = BL.sum(axis=1)\n",
    "BL_per_sector1"
   ]
  },
  {
   "cell_type": "code",
   "execution_count": 14,
   "metadata": {},
   "outputs": [
    {
     "data": {
      "text/plain": [
       "1.3592525658875794"
      ]
     },
     "execution_count": 14,
     "metadata": {},
     "output_type": "execute_result"
    }
   ],
   "source": [
    "np.mean(BL_per_sector)"
   ]
  },
  {
   "cell_type": "code",
   "execution_count": 15,
   "metadata": {},
   "outputs": [
    {
     "data": {
      "text/plain": [
       "1.3592525658875796"
      ]
     },
     "execution_count": 15,
     "metadata": {},
     "output_type": "execute_result"
    }
   ],
   "source": [
    "np.mean(BL_per_sector1)"
   ]
  },
  {
   "cell_type": "markdown",
   "metadata": {},
   "source": [
    "# DBL"
   ]
  },
  {
   "cell_type": "code",
   "execution_count": 16,
   "metadata": {},
   "outputs": [
    {
     "data": {
      "text/plain": [
       "array([0.83059525, 0.87753139, 0.85973533, 0.97182671, 0.86662387,\n",
       "       0.82210613, 1.00782507, 0.8493622 , 0.73569845, 1.52509041,\n",
       "       1.20640148, 1.53382371, 1.23800285, 0.85263908, 0.91467434,\n",
       "       1.08640312, 0.95753151, 0.94535974, 0.9539033 , 1.13494969,\n",
       "       1.0718297 , 0.86270088, 0.80651469, 0.76877159, 0.88650982,\n",
       "       1.25002651, 0.83695876, 1.42504096, 0.96302053, 1.05296263,\n",
       "       1.10424729, 0.9961594 , 0.92240509, 0.91511918, 0.96764934])"
      ]
     },
     "execution_count": 16,
     "metadata": {},
     "output_type": "execute_result"
    }
   ],
   "source": [
    "dbl = BL_per_sector / np.mean(BL_per_sector)\n",
    "dbl"
   ]
  },
  {
   "cell_type": "markdown",
   "metadata": {},
   "source": [
    "# DFL"
   ]
  },
  {
   "cell_type": "code",
   "execution_count": 17,
   "metadata": {
    "scrolled": true
   },
   "outputs": [
    {
     "data": {
      "text/plain": [
       "array([1.33111424, 0.97549213, 1.84727759, 0.90994818, 0.76518249,\n",
       "       1.21569583, 0.88248949, 0.79539102, 0.73569845, 0.79313785,\n",
       "       0.76197335, 1.23069224, 0.95191631, 0.74334901, 0.85239543,\n",
       "       1.01518893, 0.74089074, 0.74028252, 1.02130785, 1.36108417,\n",
       "       0.78627112, 0.73573864, 0.78559699, 0.77997781, 1.39847254,\n",
       "       0.91842809, 1.61414583, 0.97829222, 1.1733625 , 0.83930082,\n",
       "       0.98256599, 1.00486667, 1.79517316, 0.73569847, 0.80160134])"
      ]
     },
     "execution_count": 17,
     "metadata": {},
     "output_type": "execute_result"
    }
   ],
   "source": [
    "dfl = BL_per_sector1 / np.mean(BL_per_sector1)\n",
    "dfl"
   ]
  },
  {
   "cell_type": "code",
   "execution_count": 18,
   "metadata": {},
   "outputs": [
    {
     "data": {
      "text/html": [
       "<div>\n",
       "<style scoped>\n",
       "    .dataframe tbody tr th:only-of-type {\n",
       "        vertical-align: middle;\n",
       "    }\n",
       "\n",
       "    .dataframe tbody tr th {\n",
       "        vertical-align: top;\n",
       "    }\n",
       "\n",
       "    .dataframe thead th {\n",
       "        text-align: right;\n",
       "    }\n",
       "</style>\n",
       "<table border=\"1\" class=\"dataframe\">\n",
       "  <thead>\n",
       "    <tr style=\"text-align: right;\">\n",
       "      <th></th>\n",
       "      <th>ibl</th>\n",
       "      <th>ifl</th>\n",
       "    </tr>\n",
       "  </thead>\n",
       "  <tbody>\n",
       "    <tr>\n",
       "      <th>0</th>\n",
       "      <td>0.830595</td>\n",
       "      <td>1.331114</td>\n",
       "    </tr>\n",
       "    <tr>\n",
       "      <th>1</th>\n",
       "      <td>0.877531</td>\n",
       "      <td>0.975492</td>\n",
       "    </tr>\n",
       "    <tr>\n",
       "      <th>2</th>\n",
       "      <td>0.859735</td>\n",
       "      <td>1.847278</td>\n",
       "    </tr>\n",
       "    <tr>\n",
       "      <th>3</th>\n",
       "      <td>0.971827</td>\n",
       "      <td>0.909948</td>\n",
       "    </tr>\n",
       "    <tr>\n",
       "      <th>4</th>\n",
       "      <td>0.866624</td>\n",
       "      <td>0.765182</td>\n",
       "    </tr>\n",
       "  </tbody>\n",
       "</table>\n",
       "</div>"
      ],
      "text/plain": [
       "        ibl       ifl\n",
       "0  0.830595  1.331114\n",
       "1  0.877531  0.975492\n",
       "2  0.859735  1.847278\n",
       "3  0.971827  0.909948\n",
       "4  0.866624  0.765182"
      ]
     },
     "execution_count": 18,
     "metadata": {},
     "output_type": "execute_result"
    }
   ],
   "source": [
    "ok = {'ibl': dbl, \"ifl\": dfl}\n",
    "gambar = pd.DataFrame(data=ok)\n",
    "gambar.head()"
   ]
  },
  {
   "cell_type": "markdown",
   "metadata": {},
   "source": [
    "# Sektor Kunci"
   ]
  },
  {
   "cell_type": "code",
   "execution_count": 19,
   "metadata": {},
   "outputs": [
    {
     "data": {
      "image/png": "[encoded data removed]",
      "text/plain": [
       "<Figure size 576x432 with 1 Axes>"
      ]
     },
     "metadata": {},
     "output_type": "display_data"
    }
   ],
   "source": [
    "plt.figure(figsize=(8,6))\n",
    "plt.scatter(gambar.ibl, gambar.ifl, s=80, facecolors='none', edgecolors='r')\n",
    "plt.plot([1, 1], [0.5, 2], 'k-', lw=2)\n",
    "plt.plot([.5, 2], [1, 1], 'k-', lw=2)\n",
    "plt.xlabel(\"Total Backward Linkage\", size=15)\n",
    "plt.ylabel(\"Total Forward Linkage\", size=15)\n",
    "plt.title(\"Dispersion of the industries\", size=20)\n",
    "plt.annotate('Industri makanan minuman', xy=(1.533824, 1.230692))\n",
    "plt.annotate('Industri pulp dan kertas ', xy=(1.086403, 1.015189))\n",
    "plt.annotate('Industri dasar besi dan baja dan logam dasar bukan besi ', xy=(1.134950, 1.361084))\n",
    "plt.grid()\n",
    "plt.savefig(\"gambar.png\")\n",
    "plt.show()"
   ]
  },
  {
   "cell_type": "code",
   "execution_count": null,
   "metadata": {},
   "outputs": [],
   "source": []
  }
 ],
 "metadata": {
  "kernelspec": {
   "display_name": "Python 3",
   "language": "python",
   "name": "python3"
  },
  "language_info": {
   "codemirror_mode": {
    "name": "ipython",
    "version": 3
   },
   "file_extension": ".py",
   "mimetype": "text/x-python",
   "name": "python",
   "nbconvert_exporter": "python",
   "pygments_lexer": "ipython3",
   "version": "3.6.5"
  }
 },
 "nbformat": 4,
 "nbformat_minor": 2
}
