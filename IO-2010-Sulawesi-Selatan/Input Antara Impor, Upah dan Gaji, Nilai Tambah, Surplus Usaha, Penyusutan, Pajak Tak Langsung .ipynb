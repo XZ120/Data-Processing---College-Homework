{
 "cells": [
  {
   "cell_type": "code",
   "execution_count": 1,
   "metadata": {},
   "outputs": [
    {
     "name": "stdout",
     "output_type": "stream",
     "text": [
      "Setup Complete\n"
     ]
    }
   ],
   "source": [
    "import pandas as pd\n",
    "import numpy as np\n",
    "import matplotlib.pyplot as plt\n",
    "%matplotlib inline\n",
    "import seaborn as sns\n",
    "print(\"Setup Complete\")"
   ]
  },
  {
   "cell_type": "markdown",
   "metadata": {},
   "source": [
    "## Load Dataset"
   ]
  },
  {
   "cell_type": "code",
   "execution_count": 2,
   "metadata": {
    "scrolled": true
   },
   "outputs": [
    {
     "data": {
      "text/html": [
       "<div>\n",
       "<style scoped>\n",
       "    .dataframe tbody tr th:only-of-type {\n",
       "        vertical-align: middle;\n",
       "    }\n",
       "\n",
       "    .dataframe tbody tr th {\n",
       "        vertical-align: top;\n",
       "    }\n",
       "\n",
       "    .dataframe thead th {\n",
       "        text-align: right;\n",
       "    }\n",
       "</style>\n",
       "<table border=\"1\" class=\"dataframe\">\n",
       "  <thead>\n",
       "    <tr style=\"text-align: right;\">\n",
       "      <th></th>\n",
       "      <th>Unnamed: 0</th>\n",
       "      <th>Unnamed: 1</th>\n",
       "      <th>1</th>\n",
       "      <th>2</th>\n",
       "      <th>3</th>\n",
       "      <th>4</th>\n",
       "      <th>5</th>\n",
       "      <th>6</th>\n",
       "      <th>7</th>\n",
       "      <th>8</th>\n",
       "      <th>...</th>\n",
       "      <th>302</th>\n",
       "      <th>303</th>\n",
       "      <th>304</th>\n",
       "      <th>305</th>\n",
       "      <th>309</th>\n",
       "      <th>310</th>\n",
       "      <th>409</th>\n",
       "      <th>509</th>\n",
       "      <th>600</th>\n",
       "      <th>700</th>\n",
       "    </tr>\n",
       "  </thead>\n",
       "  <tbody>\n",
       "    <tr>\n",
       "      <th>0</th>\n",
       "      <td>Padi</td>\n",
       "      <td>1</td>\n",
       "      <td>860269.596200</td>\n",
       "      <td>0.000000</td>\n",
       "      <td>0.000000</td>\n",
       "      <td>10359.337980</td>\n",
       "      <td>0.000000</td>\n",
       "      <td>0.000000</td>\n",
       "      <td>0.0</td>\n",
       "      <td>0.000000</td>\n",
       "      <td>...</td>\n",
       "      <td>0.0</td>\n",
       "      <td>0.0000</td>\n",
       "      <td>0.000000</td>\n",
       "      <td>0.000000e+00</td>\n",
       "      <td>0.000000e+00</td>\n",
       "      <td>1.124889e+07</td>\n",
       "      <td>0.0</td>\n",
       "      <td>0.0</td>\n",
       "      <td>1.124889e+07</td>\n",
       "      <td>1.124889e+07</td>\n",
       "    </tr>\n",
       "    <tr>\n",
       "      <th>1</th>\n",
       "      <td>Tanaman bahan makanan lainnya</td>\n",
       "      <td>2</td>\n",
       "      <td>0.000000</td>\n",
       "      <td>582084.149900</td>\n",
       "      <td>0.000000</td>\n",
       "      <td>182189.380600</td>\n",
       "      <td>0.000000</td>\n",
       "      <td>2456.429353</td>\n",
       "      <td>0.0</td>\n",
       "      <td>0.000000</td>\n",
       "      <td>...</td>\n",
       "      <td>0.0</td>\n",
       "      <td>0.0000</td>\n",
       "      <td>27830.707960</td>\n",
       "      <td>8.878554e+05</td>\n",
       "      <td>5.390295e+06</td>\n",
       "      <td>7.288266e+06</td>\n",
       "      <td>0.0</td>\n",
       "      <td>0.0</td>\n",
       "      <td>7.288266e+06</td>\n",
       "      <td>7.288266e+06</td>\n",
       "    </tr>\n",
       "    <tr>\n",
       "      <th>2</th>\n",
       "      <td>Tanaman perkebunan</td>\n",
       "      <td>3</td>\n",
       "      <td>0.901156</td>\n",
       "      <td>3531.156853</td>\n",
       "      <td>644018.173500</td>\n",
       "      <td>49761.165470</td>\n",
       "      <td>0.000000</td>\n",
       "      <td>0.000000</td>\n",
       "      <td>0.0</td>\n",
       "      <td>0.000000</td>\n",
       "      <td>...</td>\n",
       "      <td>0.0</td>\n",
       "      <td>0.0000</td>\n",
       "      <td>3412.477837</td>\n",
       "      <td>4.821600e+06</td>\n",
       "      <td>5.352460e+06</td>\n",
       "      <td>9.183128e+06</td>\n",
       "      <td>0.0</td>\n",
       "      <td>0.0</td>\n",
       "      <td>9.183128e+06</td>\n",
       "      <td>9.183128e+06</td>\n",
       "    </tr>\n",
       "    <tr>\n",
       "      <th>3</th>\n",
       "      <td>Peternakan dan hasil-hasilnya</td>\n",
       "      <td>4</td>\n",
       "      <td>100432.730100</td>\n",
       "      <td>204951.991000</td>\n",
       "      <td>40607.181690</td>\n",
       "      <td>85817.333650</td>\n",
       "      <td>0.000000</td>\n",
       "      <td>330.516666</td>\n",
       "      <td>0.0</td>\n",
       "      <td>0.000000</td>\n",
       "      <td>...</td>\n",
       "      <td>0.0</td>\n",
       "      <td>135804.8442</td>\n",
       "      <td>8884.349717</td>\n",
       "      <td>1.654981e+05</td>\n",
       "      <td>1.129234e+06</td>\n",
       "      <td>2.166391e+06</td>\n",
       "      <td>0.0</td>\n",
       "      <td>0.0</td>\n",
       "      <td>2.166391e+06</td>\n",
       "      <td>2.166391e+06</td>\n",
       "    </tr>\n",
       "    <tr>\n",
       "      <th>4</th>\n",
       "      <td>Kehutanan</td>\n",
       "      <td>5</td>\n",
       "      <td>55.120636</td>\n",
       "      <td>372.029473</td>\n",
       "      <td>971.848231</td>\n",
       "      <td>48.555593</td>\n",
       "      <td>137.652127</td>\n",
       "      <td>1281.859853</td>\n",
       "      <td>0.0</td>\n",
       "      <td>33.713091</td>\n",
       "      <td>...</td>\n",
       "      <td>0.0</td>\n",
       "      <td>0.0000</td>\n",
       "      <td>905.531144</td>\n",
       "      <td>3.540820e+04</td>\n",
       "      <td>7.836585e+04</td>\n",
       "      <td>1.529393e+05</td>\n",
       "      <td>0.0</td>\n",
       "      <td>0.0</td>\n",
       "      <td>1.529393e+05</td>\n",
       "      <td>1.529393e+05</td>\n",
       "    </tr>\n",
       "  </tbody>\n",
       "</table>\n",
       "<p>5 rows × 49 columns</p>\n",
       "</div>"
      ],
      "text/plain": [
       "                      Unnamed: 0  Unnamed: 1              1              2  \\\n",
       "0                           Padi           1  860269.596200       0.000000   \n",
       "1  Tanaman bahan makanan lainnya           2       0.000000  582084.149900   \n",
       "2             Tanaman perkebunan           3       0.901156    3531.156853   \n",
       "3  Peternakan dan hasil-hasilnya           4  100432.730100  204951.991000   \n",
       "4                      Kehutanan           5      55.120636     372.029473   \n",
       "\n",
       "               3              4           5            6    7          8  \\\n",
       "0       0.000000   10359.337980    0.000000     0.000000  0.0   0.000000   \n",
       "1       0.000000  182189.380600    0.000000  2456.429353  0.0   0.000000   \n",
       "2  644018.173500   49761.165470    0.000000     0.000000  0.0   0.000000   \n",
       "3   40607.181690   85817.333650    0.000000   330.516666  0.0   0.000000   \n",
       "4     971.848231      48.555593  137.652127  1281.859853  0.0  33.713091   \n",
       "\n",
       "       ...       302          303           304           305           309  \\\n",
       "0      ...       0.0       0.0000      0.000000  0.000000e+00  0.000000e+00   \n",
       "1      ...       0.0       0.0000  27830.707960  8.878554e+05  5.390295e+06   \n",
       "2      ...       0.0       0.0000   3412.477837  4.821600e+06  5.352460e+06   \n",
       "3      ...       0.0  135804.8442   8884.349717  1.654981e+05  1.129234e+06   \n",
       "4      ...       0.0       0.0000    905.531144  3.540820e+04  7.836585e+04   \n",
       "\n",
       "            310  409  509           600           700  \n",
       "0  1.124889e+07  0.0  0.0  1.124889e+07  1.124889e+07  \n",
       "1  7.288266e+06  0.0  0.0  7.288266e+06  7.288266e+06  \n",
       "2  9.183128e+06  0.0  0.0  9.183128e+06  9.183128e+06  \n",
       "3  2.166391e+06  0.0  0.0  2.166391e+06  2.166391e+06  \n",
       "4  1.529393e+05  0.0  0.0  1.529393e+05  1.529393e+05  \n",
       "\n",
       "[5 rows x 49 columns]"
      ]
     },
     "execution_count": 2,
     "metadata": {},
     "output_type": "execute_result"
    }
   ],
   "source": [
    "data = pd.read_csv(\"IO 2010 Sulawesi Selatan.csv\")\n",
    "data.head()"
   ]
  },
  {
   "cell_type": "code",
   "execution_count": 3,
   "metadata": {},
   "outputs": [
    {
     "data": {
      "text/html": [
       "<div>\n",
       "<style scoped>\n",
       "    .dataframe tbody tr th:only-of-type {\n",
       "        vertical-align: middle;\n",
       "    }\n",
       "\n",
       "    .dataframe tbody tr th {\n",
       "        vertical-align: top;\n",
       "    }\n",
       "\n",
       "    .dataframe thead th {\n",
       "        text-align: right;\n",
       "    }\n",
       "</style>\n",
       "<table border=\"1\" class=\"dataframe\">\n",
       "  <thead>\n",
       "    <tr style=\"text-align: right;\">\n",
       "      <th></th>\n",
       "      <th>Unnamed: 0</th>\n",
       "      <th>Unnamed: 1</th>\n",
       "      <th>1</th>\n",
       "      <th>2</th>\n",
       "      <th>3</th>\n",
       "      <th>4</th>\n",
       "      <th>5</th>\n",
       "      <th>6</th>\n",
       "      <th>7</th>\n",
       "      <th>8</th>\n",
       "      <th>...</th>\n",
       "      <th>302</th>\n",
       "      <th>303</th>\n",
       "      <th>304</th>\n",
       "      <th>305</th>\n",
       "      <th>309</th>\n",
       "      <th>310</th>\n",
       "      <th>409</th>\n",
       "      <th>509</th>\n",
       "      <th>600</th>\n",
       "      <th>700</th>\n",
       "    </tr>\n",
       "  </thead>\n",
       "  <tbody>\n",
       "    <tr>\n",
       "      <th>39</th>\n",
       "      <td>Penyusutan</td>\n",
       "      <td>203</td>\n",
       "      <td>1.452299e+05</td>\n",
       "      <td>2.587877e+04</td>\n",
       "      <td>1.147662e+05</td>\n",
       "      <td>2.883109e+04</td>\n",
       "      <td>5119.723838</td>\n",
       "      <td>2.872259e+05</td>\n",
       "      <td>10511.751150</td>\n",
       "      <td>8.300689e+05</td>\n",
       "      <td>...</td>\n",
       "      <td>NaN</td>\n",
       "      <td>NaN</td>\n",
       "      <td>NaN</td>\n",
       "      <td>NaN</td>\n",
       "      <td>NaN</td>\n",
       "      <td>NaN</td>\n",
       "      <td>NaN</td>\n",
       "      <td>NaN</td>\n",
       "      <td>NaN</td>\n",
       "      <td>NaN</td>\n",
       "    </tr>\n",
       "    <tr>\n",
       "      <th>40</th>\n",
       "      <td>Pajak Tak Langsung</td>\n",
       "      <td>204</td>\n",
       "      <td>6.937260e+04</td>\n",
       "      <td>5.641550e+04</td>\n",
       "      <td>3.815486e+04</td>\n",
       "      <td>1.665497e+04</td>\n",
       "      <td>1064.637014</td>\n",
       "      <td>6.872361e+04</td>\n",
       "      <td>2272.474521</td>\n",
       "      <td>3.013393e+05</td>\n",
       "      <td>...</td>\n",
       "      <td>NaN</td>\n",
       "      <td>NaN</td>\n",
       "      <td>NaN</td>\n",
       "      <td>NaN</td>\n",
       "      <td>NaN</td>\n",
       "      <td>NaN</td>\n",
       "      <td>NaN</td>\n",
       "      <td>NaN</td>\n",
       "      <td>NaN</td>\n",
       "      <td>NaN</td>\n",
       "    </tr>\n",
       "    <tr>\n",
       "      <th>41</th>\n",
       "      <td>Subsidi</td>\n",
       "      <td>205</td>\n",
       "      <td>0.000000e+00</td>\n",
       "      <td>0.000000e+00</td>\n",
       "      <td>0.000000e+00</td>\n",
       "      <td>0.000000e+00</td>\n",
       "      <td>0.000000</td>\n",
       "      <td>0.000000e+00</td>\n",
       "      <td>0.000000</td>\n",
       "      <td>0.000000e+00</td>\n",
       "      <td>...</td>\n",
       "      <td>NaN</td>\n",
       "      <td>NaN</td>\n",
       "      <td>NaN</td>\n",
       "      <td>NaN</td>\n",
       "      <td>NaN</td>\n",
       "      <td>NaN</td>\n",
       "      <td>NaN</td>\n",
       "      <td>NaN</td>\n",
       "      <td>NaN</td>\n",
       "      <td>NaN</td>\n",
       "    </tr>\n",
       "    <tr>\n",
       "      <th>42</th>\n",
       "      <td>Nilai Tambah Bruto</td>\n",
       "      <td>209</td>\n",
       "      <td>8.658558e+06</td>\n",
       "      <td>6.108251e+06</td>\n",
       "      <td>6.305311e+06</td>\n",
       "      <td>1.541825e+06</td>\n",
       "      <td>122502.675300</td>\n",
       "      <td>7.705983e+06</td>\n",
       "      <td>218219.567500</td>\n",
       "      <td>6.901461e+06</td>\n",
       "      <td>...</td>\n",
       "      <td>NaN</td>\n",
       "      <td>NaN</td>\n",
       "      <td>NaN</td>\n",
       "      <td>NaN</td>\n",
       "      <td>NaN</td>\n",
       "      <td>NaN</td>\n",
       "      <td>NaN</td>\n",
       "      <td>NaN</td>\n",
       "      <td>NaN</td>\n",
       "      <td>NaN</td>\n",
       "    </tr>\n",
       "    <tr>\n",
       "      <th>43</th>\n",
       "      <td>Jumlah Input</td>\n",
       "      <td>210</td>\n",
       "      <td>1.124889e+07</td>\n",
       "      <td>7.288266e+06</td>\n",
       "      <td>9.183128e+06</td>\n",
       "      <td>2.166391e+06</td>\n",
       "      <td>152939.335200</td>\n",
       "      <td>8.630996e+06</td>\n",
       "      <td>341949.506400</td>\n",
       "      <td>1.032085e+07</td>\n",
       "      <td>...</td>\n",
       "      <td>NaN</td>\n",
       "      <td>NaN</td>\n",
       "      <td>NaN</td>\n",
       "      <td>NaN</td>\n",
       "      <td>NaN</td>\n",
       "      <td>NaN</td>\n",
       "      <td>NaN</td>\n",
       "      <td>NaN</td>\n",
       "      <td>NaN</td>\n",
       "      <td>NaN</td>\n",
       "    </tr>\n",
       "  </tbody>\n",
       "</table>\n",
       "<p>5 rows × 49 columns</p>\n",
       "</div>"
      ],
      "text/plain": [
       "             Unnamed: 0  Unnamed: 1             1             2             3  \\\n",
       "39           Penyusutan         203  1.452299e+05  2.587877e+04  1.147662e+05   \n",
       "40  Pajak Tak Langsung          204  6.937260e+04  5.641550e+04  3.815486e+04   \n",
       "41              Subsidi         205  0.000000e+00  0.000000e+00  0.000000e+00   \n",
       "42   Nilai Tambah Bruto         209  8.658558e+06  6.108251e+06  6.305311e+06   \n",
       "43         Jumlah Input         210  1.124889e+07  7.288266e+06  9.183128e+06   \n",
       "\n",
       "               4              5             6              7             8  \\\n",
       "39  2.883109e+04    5119.723838  2.872259e+05   10511.751150  8.300689e+05   \n",
       "40  1.665497e+04    1064.637014  6.872361e+04    2272.474521  3.013393e+05   \n",
       "41  0.000000e+00       0.000000  0.000000e+00       0.000000  0.000000e+00   \n",
       "42  1.541825e+06  122502.675300  7.705983e+06  218219.567500  6.901461e+06   \n",
       "43  2.166391e+06  152939.335200  8.630996e+06  341949.506400  1.032085e+07   \n",
       "\n",
       "   ...   302  303  304  305  309  310  409  509  600  700  \n",
       "39 ...   NaN  NaN  NaN  NaN  NaN  NaN  NaN  NaN  NaN  NaN  \n",
       "40 ...   NaN  NaN  NaN  NaN  NaN  NaN  NaN  NaN  NaN  NaN  \n",
       "41 ...   NaN  NaN  NaN  NaN  NaN  NaN  NaN  NaN  NaN  NaN  \n",
       "42 ...   NaN  NaN  NaN  NaN  NaN  NaN  NaN  NaN  NaN  NaN  \n",
       "43 ...   NaN  NaN  NaN  NaN  NaN  NaN  NaN  NaN  NaN  NaN  \n",
       "\n",
       "[5 rows x 49 columns]"
      ]
     },
     "execution_count": 3,
     "metadata": {},
     "output_type": "execute_result"
    }
   ],
   "source": [
    "data.tail()"
   ]
  },
  {
   "cell_type": "code",
   "execution_count": 4,
   "metadata": {},
   "outputs": [
    {
     "name": "stdout",
     "output_type": "stream",
     "text": [
      "<class 'pandas.core.frame.DataFrame'>\n",
      "RangeIndex: 44 entries, 0 to 43\n",
      "Data columns (total 49 columns):\n",
      "Sektor    44 non-null object\n",
      "Kode      44 non-null int64\n",
      "1         44 non-null float64\n",
      "2         44 non-null float64\n",
      "3         44 non-null float64\n",
      "4         44 non-null float64\n",
      "5         44 non-null float64\n",
      "6         44 non-null float64\n",
      "7         44 non-null float64\n",
      "8         44 non-null float64\n",
      "9         44 non-null int64\n",
      "10        44 non-null float64\n",
      "11        44 non-null float64\n",
      "12        44 non-null float64\n",
      "13        44 non-null float64\n",
      "14        44 non-null float64\n",
      "15        44 non-null float64\n",
      "16        44 non-null float64\n",
      "17        44 non-null float64\n",
      "18        44 non-null float64\n",
      "19        44 non-null float64\n",
      "20        44 non-null float64\n",
      "21        44 non-null float64\n",
      "22        44 non-null float64\n",
      "23        44 non-null float64\n",
      "24        44 non-null float64\n",
      "25        44 non-null float64\n",
      "26        44 non-null float64\n",
      "27        44 non-null float64\n",
      "28        44 non-null float64\n",
      "29        44 non-null float64\n",
      "30        44 non-null float64\n",
      "31        44 non-null float64\n",
      "32        44 non-null float64\n",
      "33        44 non-null float64\n",
      "34        44 non-null float64\n",
      "35        44 non-null float64\n",
      "180       44 non-null float64\n",
      "301       37 non-null float64\n",
      "302       37 non-null float64\n",
      "303       37 non-null float64\n",
      "304       37 non-null float64\n",
      "305       37 non-null float64\n",
      "309       37 non-null float64\n",
      "310       37 non-null float64\n",
      "409       37 non-null float64\n",
      "509       37 non-null float64\n",
      "600       37 non-null float64\n",
      "700       37 non-null float64\n",
      "dtypes: float64(46), int64(2), object(1)\n",
      "memory usage: 16.9+ KB\n"
     ]
    }
   ],
   "source": [
    "data.rename( columns={'Unnamed: 0':'Sektor', 'Unnamed: 1':'Kode'}, inplace=True )\n",
    "data.info()"
   ]
  },
  {
   "cell_type": "markdown",
   "metadata": {},
   "source": [
    "## Matrix A"
   ]
  },
  {
   "cell_type": "code",
   "execution_count": 5,
   "metadata": {},
   "outputs": [
    {
     "data": {
      "text/html": [
       "<div>\n",
       "<style scoped>\n",
       "    .dataframe tbody tr th:only-of-type {\n",
       "        vertical-align: middle;\n",
       "    }\n",
       "\n",
       "    .dataframe tbody tr th {\n",
       "        vertical-align: top;\n",
       "    }\n",
       "\n",
       "    .dataframe thead th {\n",
       "        text-align: right;\n",
       "    }\n",
       "</style>\n",
       "<table border=\"1\" class=\"dataframe\">\n",
       "  <thead>\n",
       "    <tr style=\"text-align: right;\">\n",
       "      <th></th>\n",
       "      <th>1</th>\n",
       "      <th>2</th>\n",
       "      <th>3</th>\n",
       "      <th>4</th>\n",
       "      <th>5</th>\n",
       "      <th>6</th>\n",
       "      <th>7</th>\n",
       "      <th>8</th>\n",
       "      <th>9</th>\n",
       "      <th>10</th>\n",
       "      <th>...</th>\n",
       "      <th>26</th>\n",
       "      <th>27</th>\n",
       "      <th>28</th>\n",
       "      <th>29</th>\n",
       "      <th>30</th>\n",
       "      <th>31</th>\n",
       "      <th>32</th>\n",
       "      <th>33</th>\n",
       "      <th>34</th>\n",
       "      <th>35</th>\n",
       "    </tr>\n",
       "  </thead>\n",
       "  <tbody>\n",
       "    <tr>\n",
       "      <th>30</th>\n",
       "      <td>3743.743622</td>\n",
       "      <td>12615.745520</td>\n",
       "      <td>19866.223940</td>\n",
       "      <td>4997.007998</td>\n",
       "      <td>520.528403</td>\n",
       "      <td>12308.320550</td>\n",
       "      <td>3034.314396</td>\n",
       "      <td>402704.377700</td>\n",
       "      <td>0</td>\n",
       "      <td>5178.198506</td>\n",
       "      <td>...</td>\n",
       "      <td>105917.39100</td>\n",
       "      <td>138251.392700</td>\n",
       "      <td>34613.14768</td>\n",
       "      <td>2326.477078</td>\n",
       "      <td>2810.614248</td>\n",
       "      <td>334696.754300</td>\n",
       "      <td>72981.91809</td>\n",
       "      <td>4.066154e+04</td>\n",
       "      <td>4.254848e+05</td>\n",
       "      <td>2893.575190</td>\n",
       "    </tr>\n",
       "    <tr>\n",
       "      <th>31</th>\n",
       "      <td>1185.584115</td>\n",
       "      <td>5772.949342</td>\n",
       "      <td>4722.638898</td>\n",
       "      <td>1515.836749</td>\n",
       "      <td>215.115812</td>\n",
       "      <td>5152.120281</td>\n",
       "      <td>263.303981</td>\n",
       "      <td>12983.477990</td>\n",
       "      <td>0</td>\n",
       "      <td>1704.741704</td>\n",
       "      <td>...</td>\n",
       "      <td>50763.07169</td>\n",
       "      <td>242383.421600</td>\n",
       "      <td>16207.09331</td>\n",
       "      <td>70074.130360</td>\n",
       "      <td>44552.119400</td>\n",
       "      <td>87720.902270</td>\n",
       "      <td>273359.20490</td>\n",
       "      <td>4.605670e+04</td>\n",
       "      <td>1.214648e+06</td>\n",
       "      <td>3722.121816</td>\n",
       "    </tr>\n",
       "    <tr>\n",
       "      <th>32</th>\n",
       "      <td>173531.401300</td>\n",
       "      <td>65510.072460</td>\n",
       "      <td>231213.093300</td>\n",
       "      <td>9226.947703</td>\n",
       "      <td>7973.510287</td>\n",
       "      <td>96451.519420</td>\n",
       "      <td>86609.491590</td>\n",
       "      <td>79132.710210</td>\n",
       "      <td>0</td>\n",
       "      <td>315.907155</td>\n",
       "      <td>...</td>\n",
       "      <td>350474.01410</td>\n",
       "      <td>791182.442200</td>\n",
       "      <td>9624.00534</td>\n",
       "      <td>186209.002000</td>\n",
       "      <td>17643.794460</td>\n",
       "      <td>77181.600910</td>\n",
       "      <td>70381.48052</td>\n",
       "      <td>1.025157e+06</td>\n",
       "      <td>2.720107e+05</td>\n",
       "      <td>39668.729670</td>\n",
       "    </tr>\n",
       "    <tr>\n",
       "      <th>33</th>\n",
       "      <td>0.000000</td>\n",
       "      <td>0.000000</td>\n",
       "      <td>0.000000</td>\n",
       "      <td>0.000000</td>\n",
       "      <td>0.000000</td>\n",
       "      <td>0.000000</td>\n",
       "      <td>0.000000</td>\n",
       "      <td>0.000000</td>\n",
       "      <td>0</td>\n",
       "      <td>0.000000</td>\n",
       "      <td>...</td>\n",
       "      <td>0.00000</td>\n",
       "      <td>0.000000</td>\n",
       "      <td>0.00000</td>\n",
       "      <td>0.000000</td>\n",
       "      <td>0.000000</td>\n",
       "      <td>0.000000</td>\n",
       "      <td>0.00000</td>\n",
       "      <td>1.560871e-01</td>\n",
       "      <td>0.000000e+00</td>\n",
       "      <td>0.000000</td>\n",
       "    </tr>\n",
       "    <tr>\n",
       "      <th>34</th>\n",
       "      <td>2015.786614</td>\n",
       "      <td>1896.493266</td>\n",
       "      <td>7867.852625</td>\n",
       "      <td>847.263499</td>\n",
       "      <td>730.432787</td>\n",
       "      <td>650.642870</td>\n",
       "      <td>562.535946</td>\n",
       "      <td>2966.602608</td>\n",
       "      <td>0</td>\n",
       "      <td>33.977372</td>\n",
       "      <td>...</td>\n",
       "      <td>13833.95433</td>\n",
       "      <td>9494.223231</td>\n",
       "      <td>851.43087</td>\n",
       "      <td>125043.301700</td>\n",
       "      <td>434.577375</td>\n",
       "      <td>3013.151661</td>\n",
       "      <td>15069.10638</td>\n",
       "      <td>1.965451e+04</td>\n",
       "      <td>2.954665e+04</td>\n",
       "      <td>12663.464620</td>\n",
       "    </tr>\n",
       "  </tbody>\n",
       "</table>\n",
       "<p>5 rows × 35 columns</p>\n",
       "</div>"
      ],
      "text/plain": [
       "                1             2              3            4            5  \\\n",
       "30    3743.743622  12615.745520   19866.223940  4997.007998   520.528403   \n",
       "31    1185.584115   5772.949342    4722.638898  1515.836749   215.115812   \n",
       "32  173531.401300  65510.072460  231213.093300  9226.947703  7973.510287   \n",
       "33       0.000000      0.000000       0.000000     0.000000     0.000000   \n",
       "34    2015.786614   1896.493266    7867.852625   847.263499   730.432787   \n",
       "\n",
       "               6             7              8  9           10      ...       \\\n",
       "30  12308.320550   3034.314396  402704.377700  0  5178.198506      ...        \n",
       "31   5152.120281    263.303981   12983.477990  0  1704.741704      ...        \n",
       "32  96451.519420  86609.491590   79132.710210  0   315.907155      ...        \n",
       "33      0.000000      0.000000       0.000000  0     0.000000      ...        \n",
       "34    650.642870    562.535946    2966.602608  0    33.977372      ...        \n",
       "\n",
       "              26             27           28             29            30  \\\n",
       "30  105917.39100  138251.392700  34613.14768    2326.477078   2810.614248   \n",
       "31   50763.07169  242383.421600  16207.09331   70074.130360  44552.119400   \n",
       "32  350474.01410  791182.442200   9624.00534  186209.002000  17643.794460   \n",
       "33       0.00000       0.000000      0.00000       0.000000      0.000000   \n",
       "34   13833.95433    9494.223231    851.43087  125043.301700    434.577375   \n",
       "\n",
       "               31            32            33            34            35  \n",
       "30  334696.754300   72981.91809  4.066154e+04  4.254848e+05   2893.575190  \n",
       "31   87720.902270  273359.20490  4.605670e+04  1.214648e+06   3722.121816  \n",
       "32   77181.600910   70381.48052  1.025157e+06  2.720107e+05  39668.729670  \n",
       "33       0.000000       0.00000  1.560871e-01  0.000000e+00      0.000000  \n",
       "34    3013.151661   15069.10638  1.965451e+04  2.954665e+04  12663.464620  \n",
       "\n",
       "[5 rows x 35 columns]"
      ]
     },
     "execution_count": 5,
     "metadata": {},
     "output_type": "execute_result"
    }
   ],
   "source": [
    "a = data.iloc[:35, :37]\n",
    "del a[\"Sektor\"] , a[\"Kode\"]\n",
    "a.tail()"
   ]
  },
  {
   "cell_type": "code",
   "execution_count": 6,
   "metadata": {},
   "outputs": [
    {
     "data": {
      "text/html": [
       "<div>\n",
       "<style scoped>\n",
       "    .dataframe tbody tr th:only-of-type {\n",
       "        vertical-align: middle;\n",
       "    }\n",
       "\n",
       "    .dataframe tbody tr th {\n",
       "        vertical-align: top;\n",
       "    }\n",
       "\n",
       "    .dataframe thead th {\n",
       "        text-align: right;\n",
       "    }\n",
       "</style>\n",
       "<table border=\"1\" class=\"dataframe\">\n",
       "  <thead>\n",
       "    <tr style=\"text-align: right;\">\n",
       "      <th></th>\n",
       "      <th>1</th>\n",
       "      <th>2</th>\n",
       "      <th>3</th>\n",
       "      <th>4</th>\n",
       "      <th>5</th>\n",
       "      <th>6</th>\n",
       "      <th>7</th>\n",
       "      <th>8</th>\n",
       "      <th>9</th>\n",
       "      <th>10</th>\n",
       "      <th>...</th>\n",
       "      <th>26</th>\n",
       "      <th>27</th>\n",
       "      <th>28</th>\n",
       "      <th>29</th>\n",
       "      <th>30</th>\n",
       "      <th>31</th>\n",
       "      <th>32</th>\n",
       "      <th>33</th>\n",
       "      <th>34</th>\n",
       "      <th>35</th>\n",
       "    </tr>\n",
       "  </thead>\n",
       "  <tbody>\n",
       "    <tr>\n",
       "      <th>0</th>\n",
       "      <td>11248891.52</td>\n",
       "      <td>7288265.63</td>\n",
       "      <td>9183127.86</td>\n",
       "      <td>2166391.208</td>\n",
       "      <td>152939.3352</td>\n",
       "      <td>8630995.631</td>\n",
       "      <td>341949.5064</td>\n",
       "      <td>10320846.52</td>\n",
       "      <td>0</td>\n",
       "      <td>663934.8121</td>\n",
       "      <td>...</td>\n",
       "      <td>20981684.9</td>\n",
       "      <td>20833083.38</td>\n",
       "      <td>4930711.36</td>\n",
       "      <td>6189809.316</td>\n",
       "      <td>1853847.917</td>\n",
       "      <td>4145553.939</td>\n",
       "      <td>3035967.829</td>\n",
       "      <td>9565159.283</td>\n",
       "      <td>32627340.14</td>\n",
       "      <td>1032523.337</td>\n",
       "    </tr>\n",
       "  </tbody>\n",
       "</table>\n",
       "<p>1 rows × 35 columns</p>\n",
       "</div>"
      ],
      "text/plain": [
       "             1           2           3            4            5            6  \\\n",
       "0  11248891.52  7288265.63  9183127.86  2166391.208  152939.3352  8630995.631   \n",
       "\n",
       "             7            8  9           10     ...               26  \\\n",
       "0  341949.5064  10320846.52  0  663934.8121     ...       20981684.9   \n",
       "\n",
       "            27          28           29           30           31  \\\n",
       "0  20833083.38  4930711.36  6189809.316  1853847.917  4145553.939   \n",
       "\n",
       "            32           33           34           35  \n",
       "0  3035967.829  9565159.283  32627340.14  1032523.337  \n",
       "\n",
       "[1 rows x 35 columns]"
      ]
     },
     "execution_count": 6,
     "metadata": {},
     "output_type": "execute_result"
    }
   ],
   "source": [
    "jumlah = data.iloc[-1:, :37]\n",
    "jumlah = jumlah.reset_index()\n",
    "del jumlah[\"Sektor\"] , jumlah[\"Kode\"] , jumlah[\"index\"]\n",
    "jumlah.head()"
   ]
  },
  {
   "cell_type": "code",
   "execution_count": 7,
   "metadata": {},
   "outputs": [
    {
     "data": {
      "text/plain": [
       "(array([[8.60269596e+05, 0.00000000e+00, 0.00000000e+00, ...,\n",
       "         3.99480628e+02, 1.87270591e+02, 9.11954677e+00],\n",
       "        [0.00000000e+00, 5.82084150e+05, 0.00000000e+00, ...,\n",
       "         2.70570670e+03, 1.04214573e+05, 1.49737588e+04],\n",
       "        [9.01156375e-01, 3.53115685e+03, 6.44018174e+05, ...,\n",
       "         2.47815250e+01, 6.73316928e+03, 2.76412648e+03],\n",
       "        ...,\n",
       "        [1.73531401e+05, 6.55100725e+04, 2.31213093e+05, ...,\n",
       "         1.02515650e+06, 2.72010730e+05, 3.96687297e+04],\n",
       "        [0.00000000e+00, 0.00000000e+00, 0.00000000e+00, ...,\n",
       "         1.56087110e-01, 0.00000000e+00, 0.00000000e+00],\n",
       "        [2.01578661e+03, 1.89649327e+03, 7.86785263e+03, ...,\n",
       "         1.96545126e+04, 2.95466451e+04, 1.26634646e+04]]),\n",
       " array([[1.12488915e+07, 7.28826563e+06, 9.18312786e+06, 2.16639121e+06,\n",
       "         1.52939335e+05, 8.63099563e+06, 3.41949506e+05, 1.03208465e+07,\n",
       "         0.00000000e+00, 6.63934812e+05, 4.19455999e+06, 2.61105087e+07,\n",
       "         2.97457171e+05, 1.11495822e+05, 2.75090822e+06, 1.37422471e+06,\n",
       "         2.74636306e+05, 1.85645361e+04, 8.34495053e+06, 1.03085779e+06,\n",
       "         1.71919646e+05, 1.77345287e+03, 5.17372108e+05, 2.71005809e+05,\n",
       "         3.49863344e+06, 2.09816849e+07, 2.08330834e+07, 4.93071136e+06,\n",
       "         6.18980932e+06, 1.85384792e+06, 4.14555394e+06, 3.03596783e+06,\n",
       "         9.56515928e+06, 3.26273401e+07, 1.03252334e+06]]))"
      ]
     },
     "execution_count": 7,
     "metadata": {},
     "output_type": "execute_result"
    }
   ],
   "source": [
    "aa = np.array(a)\n",
    "bb = np.array(jumlah)\n",
    "aa , bb"
   ]
  },
  {
   "cell_type": "code",
   "execution_count": 8,
   "metadata": {},
   "outputs": [
    {
     "data": {
      "text/plain": [
       "array([[7.64759438e-02, 0.00000000e+00, 0.00000000e+00, ...,\n",
       "        4.17641375e-05, 5.73968305e-06, 8.83229119e-06],\n",
       "       [0.00000000e+00, 7.98659351e-02, 0.00000000e+00, ...,\n",
       "        2.82871056e-04, 3.19408731e-03, 1.45021020e-02],\n",
       "       [8.01106823e-08, 4.84498924e-04, 7.01305899e-02, ...,\n",
       "        2.59081153e-06, 2.06365865e-04, 2.67705957e-03],\n",
       "       ...,\n",
       "       [1.54265334e-02, 8.98843096e-03, 2.51780327e-02, ...,\n",
       "        1.07176104e-01, 8.33689564e-03, 3.84192088e-02],\n",
       "       [0.00000000e+00, 0.00000000e+00, 0.00000000e+00, ...,\n",
       "        1.63182970e-08, 0.00000000e+00, 0.00000000e+00],\n",
       "       [1.79198689e-04, 2.60211875e-04, 8.56772632e-04, ...,\n",
       "        2.05480243e-03, 9.05579340e-04, 1.22645796e-02]])"
      ]
     },
     "execution_count": 8,
     "metadata": {},
     "output_type": "execute_result"
    }
   ],
   "source": [
    "matrix_a = np.divide(aa,bb, out=np.zeros_like(aa), where=bb!=0)\n",
    "matrix_a"
   ]
  },
  {
   "cell_type": "code",
   "execution_count": 9,
   "metadata": {},
   "outputs": [
    {
     "data": {
      "text/plain": [
       "array([[1., 0., 0., ..., 0., 0., 0.],\n",
       "       [0., 1., 0., ..., 0., 0., 0.],\n",
       "       [0., 0., 1., ..., 0., 0., 0.],\n",
       "       ...,\n",
       "       [0., 0., 0., ..., 1., 0., 0.],\n",
       "       [0., 0., 0., ..., 0., 1., 0.],\n",
       "       [0., 0., 0., ..., 0., 0., 1.]])"
      ]
     },
     "execution_count": 9,
     "metadata": {},
     "output_type": "execute_result"
    }
   ],
   "source": [
    "# Make identity matrix\n",
    "identitas = np.identity(35, dtype = None)\n",
    "identitas"
   ]
  },
  {
   "cell_type": "code",
   "execution_count": 10,
   "metadata": {
    "scrolled": true
   },
   "outputs": [
    {
     "data": {
      "text/plain": [
       "array([[ 9.23524056e-01,  0.00000000e+00,  0.00000000e+00, ...,\n",
       "        -4.17641375e-05, -5.73968305e-06, -8.83229119e-06],\n",
       "       [ 0.00000000e+00,  9.20134065e-01,  0.00000000e+00, ...,\n",
       "        -2.82871056e-04, -3.19408731e-03, -1.45021020e-02],\n",
       "       [-8.01106823e-08, -4.84498924e-04,  9.29869410e-01, ...,\n",
       "        -2.59081153e-06, -2.06365865e-04, -2.67705957e-03],\n",
       "       ...,\n",
       "       [-1.54265334e-02, -8.98843096e-03, -2.51780327e-02, ...,\n",
       "         8.92823896e-01, -8.33689564e-03, -3.84192088e-02],\n",
       "       [ 0.00000000e+00,  0.00000000e+00,  0.00000000e+00, ...,\n",
       "        -1.63182970e-08,  1.00000000e+00,  0.00000000e+00],\n",
       "       [-1.79198689e-04, -2.60211875e-04, -8.56772632e-04, ...,\n",
       "        -2.05480243e-03, -9.05579340e-04,  9.87735420e-01]])"
      ]
     },
     "execution_count": 10,
     "metadata": {},
     "output_type": "execute_result"
    }
   ],
   "source": [
    "i_a = np.subtract(identitas,matrix_a)\n",
    "i_a"
   ]
  },
  {
   "cell_type": "markdown",
   "metadata": {},
   "source": [
    "## Matrix Pengganda"
   ]
  },
  {
   "cell_type": "code",
   "execution_count": 11,
   "metadata": {},
   "outputs": [
    {
     "data": {
      "text/plain": [
       "array([[1.08306502e+00, 1.08156128e-03, 9.85669645e-04, ...,\n",
       "        1.27808660e-03, 7.34399193e-03, 2.26223008e-02],\n",
       "       [9.63991943e-04, 1.08992357e+00, 6.92688144e-04, ...,\n",
       "        8.83637423e-04, 5.22606966e-03, 1.91518173e-02],\n",
       "       [3.50311515e-04, 1.76103563e-03, 1.07592503e+00, ...,\n",
       "        5.10323278e-04, 2.77404332e-03, 1.06846744e-02],\n",
       "       ...,\n",
       "       [1.93033939e-02, 1.30455340e-02, 3.20991730e-02, ...,\n",
       "        1.12377997e+00, 1.51431530e-02, 5.02245799e-02],\n",
       "       [3.14998515e-10, 2.12880899e-10, 5.23803838e-10, ...,\n",
       "        1.83381753e-08, 1.00000000e+00, 8.19579612e-10],\n",
       "       [3.08534085e-04, 5.15573268e-04, 1.29236451e-03, ...,\n",
       "        2.64265738e-03, 1.78096443e-03, 1.01296065e+00]])"
      ]
     },
     "execution_count": 11,
     "metadata": {},
     "output_type": "execute_result"
    }
   ],
   "source": [
    "BL = np.linalg.inv(i_a)\n",
    "BL"
   ]
  },
  {
   "cell_type": "markdown",
   "metadata": {},
   "source": [
    "# Input Antara Impor"
   ]
  },
  {
   "cell_type": "code",
   "execution_count": 12,
   "metadata": {},
   "outputs": [
    {
     "data": {
      "text/html": [
       "<div>\n",
       "<style scoped>\n",
       "    .dataframe tbody tr th:only-of-type {\n",
       "        vertical-align: middle;\n",
       "    }\n",
       "\n",
       "    .dataframe tbody tr th {\n",
       "        vertical-align: top;\n",
       "    }\n",
       "\n",
       "    .dataframe thead th {\n",
       "        text-align: right;\n",
       "    }\n",
       "</style>\n",
       "<table border=\"1\" class=\"dataframe\">\n",
       "  <thead>\n",
       "    <tr style=\"text-align: right;\">\n",
       "      <th></th>\n",
       "      <th>1</th>\n",
       "      <th>2</th>\n",
       "      <th>3</th>\n",
       "      <th>4</th>\n",
       "      <th>5</th>\n",
       "      <th>6</th>\n",
       "      <th>7</th>\n",
       "      <th>8</th>\n",
       "      <th>9</th>\n",
       "      <th>10</th>\n",
       "      <th>...</th>\n",
       "      <th>26</th>\n",
       "      <th>27</th>\n",
       "      <th>28</th>\n",
       "      <th>29</th>\n",
       "      <th>30</th>\n",
       "      <th>31</th>\n",
       "      <th>32</th>\n",
       "      <th>33</th>\n",
       "      <th>34</th>\n",
       "      <th>35</th>\n",
       "    </tr>\n",
       "  </thead>\n",
       "  <tbody>\n",
       "    <tr>\n",
       "      <th>0</th>\n",
       "      <td>0.120153</td>\n",
       "      <td>0.006058</td>\n",
       "      <td>0.177333</td>\n",
       "      <td>0.050676</td>\n",
       "      <td>0.073816</td>\n",
       "      <td>0.009747</td>\n",
       "      <td>0.071272</td>\n",
       "      <td>0.228103</td>\n",
       "      <td>NaN</td>\n",
       "      <td>0.02951</td>\n",
       "      <td>...</td>\n",
       "      <td>0.143173</td>\n",
       "      <td>0.004468</td>\n",
       "      <td>0.046089</td>\n",
       "      <td>0.129547</td>\n",
       "      <td>0.164186</td>\n",
       "      <td>0.004333</td>\n",
       "      <td>0.098266</td>\n",
       "      <td>0.00175</td>\n",
       "      <td>0.232102</td>\n",
       "      <td>0.008835</td>\n",
       "    </tr>\n",
       "  </tbody>\n",
       "</table>\n",
       "<p>1 rows × 35 columns</p>\n",
       "</div>"
      ],
      "text/plain": [
       "          1         2         3         4         5         6         7  \\\n",
       "0  0.120153  0.006058  0.177333  0.050676  0.073816  0.009747  0.071272   \n",
       "\n",
       "          8   9       10    ...           26        27        28        29  \\\n",
       "0  0.228103 NaN  0.02951    ...     0.143173  0.004468  0.046089  0.129547   \n",
       "\n",
       "         30        31        32       33        34        35  \n",
       "0  0.164186  0.004333  0.098266  0.00175  0.232102  0.008835  \n",
       "\n",
       "[1 rows x 35 columns]"
      ]
     },
     "execution_count": 12,
     "metadata": {},
     "output_type": "execute_result"
    }
   ],
   "source": [
    "iai = data.loc[data[\"Sektor\"] == \"Input Antara Impor\"]\n",
    "iai = iai.reset_index()\n",
    "del iai[\"Sektor\"] , iai[\"Kode\"], iai[\"index\"]\n",
    "iai = iai.iloc[:, :35]\n",
    "n = iai / jumlah\n",
    "n"
   ]
  },
  {
   "cell_type": "code",
   "execution_count": 13,
   "metadata": {},
   "outputs": [
    {
     "data": {
      "text/plain": [
       "array([[0.12015286, 0.        , 0.        , ..., 0.        , 0.        ,\n",
       "        0.        ],\n",
       "       [0.        , 0.00605817, 0.        , ..., 0.        , 0.        ,\n",
       "        0.        ],\n",
       "       [0.        , 0.        , 0.17733325, ..., 0.        , 0.        ,\n",
       "        0.        ],\n",
       "       ...,\n",
       "       [0.        , 0.        , 0.        , ..., 0.00175045, 0.        ,\n",
       "        0.        ],\n",
       "       [0.        , 0.        , 0.        , ..., 0.        , 0.23210236,\n",
       "        0.        ],\n",
       "       [0.        , 0.        , 0.        , ..., 0.        , 0.        ,\n",
       "        0.00883547]])"
      ]
     },
     "execution_count": 13,
     "metadata": {},
     "output_type": "execute_result"
    }
   ],
   "source": [
    "n = np.array(n)\n",
    "d = np.diag(n[0])\n",
    "d"
   ]
  },
  {
   "cell_type": "markdown",
   "metadata": {},
   "source": [
    "### IAI x Pengganda"
   ]
  },
  {
   "cell_type": "code",
   "execution_count": 14,
   "metadata": {},
   "outputs": [
    {
     "data": {
      "text/plain": [
       "array([0.13013336, 0.00660295, 0.19079729, 0.05296775, 0.0738853 ,\n",
       "       0.01011087, 0.07229462, 0.22845323, 0.        , 0.03011778,\n",
       "       0.00177336, 0.00893851, 0.30237157, 0.39533258, 0.33358597,\n",
       "       0.61979458, 0.56200466, 0.5761416 , 0.06967964, 0.7118355 ,\n",
       "       0.59341723, 0.15339374, 0.3202549 , 0.89493078, 0.5433602 ,\n",
       "       0.14393019, 0.00448738, 0.04626648, 0.13551515, 0.16502839,\n",
       "       0.00472205, 0.10821009, 0.00196712, 0.23210236, 0.00894998])"
      ]
     },
     "execution_count": 14,
     "metadata": {},
     "output_type": "execute_result"
    }
   ],
   "source": [
    "impor = np.multiply(d, BL, out=np.zeros_like(aa), where=bb!=0)\n",
    "hasil1 = np.sum(impor, axis=0)\n",
    "hasil1"
   ]
  },
  {
   "cell_type": "code",
   "execution_count": 15,
   "metadata": {},
   "outputs": [
    {
     "data": {
      "text/plain": [
       "[<matplotlib.lines.Line2D at 0x21a90db3080>]"
      ]
     },
     "execution_count": 15,
     "metadata": {},
     "output_type": "execute_result"
    },
    {
     "data": {
      "image/png": "[encoded data removed]",
      "text/plain": [
       "<Figure size 720x432 with 1 Axes>"
      ]
     },
     "metadata": {},
     "output_type": "display_data"
    }
   ],
   "source": [
    "plt.figure(figsize=(10,6))\n",
    "plt.plot(hasil1)"
   ]
  },
  {
   "cell_type": "markdown",
   "metadata": {},
   "source": [
    "# Upah dan Gaji"
   ]
  },
  {
   "cell_type": "code",
   "execution_count": 16,
   "metadata": {},
   "outputs": [
    {
     "data": {
      "text/html": [
       "<div>\n",
       "<style scoped>\n",
       "    .dataframe tbody tr th:only-of-type {\n",
       "        vertical-align: middle;\n",
       "    }\n",
       "\n",
       "    .dataframe tbody tr th {\n",
       "        vertical-align: top;\n",
       "    }\n",
       "\n",
       "    .dataframe thead th {\n",
       "        text-align: right;\n",
       "    }\n",
       "</style>\n",
       "<table border=\"1\" class=\"dataframe\">\n",
       "  <thead>\n",
       "    <tr style=\"text-align: right;\">\n",
       "      <th></th>\n",
       "      <th>1</th>\n",
       "      <th>2</th>\n",
       "      <th>3</th>\n",
       "      <th>4</th>\n",
       "      <th>5</th>\n",
       "      <th>6</th>\n",
       "      <th>7</th>\n",
       "      <th>8</th>\n",
       "      <th>9</th>\n",
       "      <th>10</th>\n",
       "      <th>...</th>\n",
       "      <th>26</th>\n",
       "      <th>27</th>\n",
       "      <th>28</th>\n",
       "      <th>29</th>\n",
       "      <th>30</th>\n",
       "      <th>31</th>\n",
       "      <th>32</th>\n",
       "      <th>33</th>\n",
       "      <th>34</th>\n",
       "      <th>35</th>\n",
       "    </tr>\n",
       "  </thead>\n",
       "  <tbody>\n",
       "    <tr>\n",
       "      <th>0</th>\n",
       "      <td>0.130112</td>\n",
       "      <td>0.115207</td>\n",
       "      <td>0.162026</td>\n",
       "      <td>0.137591</td>\n",
       "      <td>0.172319</td>\n",
       "      <td>0.173666</td>\n",
       "      <td>0.033696</td>\n",
       "      <td>0.192384</td>\n",
       "      <td>NaN</td>\n",
       "      <td>0.020379</td>\n",
       "      <td>...</td>\n",
       "      <td>0.160755</td>\n",
       "      <td>0.20239</td>\n",
       "      <td>0.114394</td>\n",
       "      <td>0.12477</td>\n",
       "      <td>0.145189</td>\n",
       "      <td>0.145327</td>\n",
       "      <td>0.158271</td>\n",
       "      <td>0.166063</td>\n",
       "      <td>0.575309</td>\n",
       "      <td>0.356554</td>\n",
       "    </tr>\n",
       "  </tbody>\n",
       "</table>\n",
       "<p>1 rows × 35 columns</p>\n",
       "</div>"
      ],
      "text/plain": [
       "          1         2         3         4         5         6         7  \\\n",
       "0  0.130112  0.115207  0.162026  0.137591  0.172319  0.173666  0.033696   \n",
       "\n",
       "          8   9        10    ...           26       27        28       29  \\\n",
       "0  0.192384 NaN  0.020379    ...     0.160755  0.20239  0.114394  0.12477   \n",
       "\n",
       "         30        31        32        33        34        35  \n",
       "0  0.145189  0.145327  0.158271  0.166063  0.575309  0.356554  \n",
       "\n",
       "[1 rows x 35 columns]"
      ]
     },
     "execution_count": 16,
     "metadata": {},
     "output_type": "execute_result"
    }
   ],
   "source": [
    "udg = data.loc[data[\"Sektor\"] == \"Upah dan Gaji\"]\n",
    "udg = udg.reset_index()\n",
    "del udg[\"Sektor\"] , udg[\"Kode\"], udg[\"index\"]\n",
    "udg = udg.iloc[:, :35]\n",
    "n = udg / jumlah\n",
    "n"
   ]
  },
  {
   "cell_type": "code",
   "execution_count": 17,
   "metadata": {},
   "outputs": [
    {
     "data": {
      "text/plain": [
       "array([[0.13011221, 0.        , 0.        , ..., 0.        , 0.        ,\n",
       "        0.        ],\n",
       "       [0.        , 0.11520662, 0.        , ..., 0.        , 0.        ,\n",
       "        0.        ],\n",
       "       [0.        , 0.        , 0.16202647, ..., 0.        , 0.        ,\n",
       "        0.        ],\n",
       "       ...,\n",
       "       [0.        , 0.        , 0.        , ..., 0.1660634 , 0.        ,\n",
       "        0.        ],\n",
       "       [0.        , 0.        , 0.        , ..., 0.        , 0.57530891,\n",
       "        0.        ],\n",
       "       [0.        , 0.        , 0.        , ..., 0.        , 0.        ,\n",
       "        0.35655353]])"
      ]
     },
     "execution_count": 17,
     "metadata": {},
     "output_type": "execute_result"
    }
   ],
   "source": [
    "n = np.array(n)\n",
    "f = np.diag(n[0])\n",
    "f"
   ]
  },
  {
   "cell_type": "markdown",
   "metadata": {},
   "source": [
    "### UdG x Pengganda"
   ]
  },
  {
   "cell_type": "code",
   "execution_count": 18,
   "metadata": {},
   "outputs": [
    {
     "data": {
      "text/plain": [
       "array([0.14091998, 0.12556641, 0.17432833, 0.14381469, 0.17248102,\n",
       "       0.18014833, 0.03417905, 0.19267983, 0.        , 0.0207984 ,\n",
       "       0.11762447, 0.03833075, 0.08246894, 0.16545418, 0.16696356,\n",
       "       0.05291045, 0.05676269, 0.08332444, 0.16457215, 0.04002769,\n",
       "       0.0537703 , 0.2691864 , 0.05379638, 0.02558422, 0.14665223,\n",
       "       0.16160472, 0.20326943, 0.11483429, 0.13051794, 0.14593368,\n",
       "       0.15839226, 0.17428665, 0.18661872, 0.57530891, 0.3611747 ])"
      ]
     },
     "execution_count": 18,
     "metadata": {},
     "output_type": "execute_result"
    }
   ],
   "source": [
    "gaji = np.multiply(f, BL, out=np.zeros_like(aa), where=bb!=0)\n",
    "hasil2 = np.sum(gaji, axis=0)\n",
    "hasil2"
   ]
  },
  {
   "cell_type": "code",
   "execution_count": 19,
   "metadata": {
    "scrolled": true
   },
   "outputs": [
    {
     "data": {
      "text/plain": [
       "[<matplotlib.lines.Line2D at 0x21a90f82d68>]"
      ]
     },
     "execution_count": 19,
     "metadata": {},
     "output_type": "execute_result"
    },
    {
     "data": {
      "image/png": "[encoded data removed]",
      "text/plain": [
       "<Figure size 720x432 with 1 Axes>"
      ]
     },
     "metadata": {},
     "output_type": "display_data"
    }
   ],
   "source": [
    "plt.figure(figsize=(10,6))\n",
    "plt.plot(hasil2)"
   ]
  },
  {
   "cell_type": "markdown",
   "metadata": {},
   "source": [
    "# Nilai Tambah Bruto"
   ]
  },
  {
   "cell_type": "code",
   "execution_count": 20,
   "metadata": {},
   "outputs": [
    {
     "data": {
      "text/html": [
       "<div>\n",
       "<style scoped>\n",
       "    .dataframe tbody tr th:only-of-type {\n",
       "        vertical-align: middle;\n",
       "    }\n",
       "\n",
       "    .dataframe tbody tr th {\n",
       "        vertical-align: top;\n",
       "    }\n",
       "\n",
       "    .dataframe thead th {\n",
       "        text-align: right;\n",
       "    }\n",
       "</style>\n",
       "<table border=\"1\" class=\"dataframe\">\n",
       "  <thead>\n",
       "    <tr style=\"text-align: right;\">\n",
       "      <th></th>\n",
       "      <th>1</th>\n",
       "      <th>2</th>\n",
       "      <th>3</th>\n",
       "      <th>4</th>\n",
       "      <th>5</th>\n",
       "      <th>6</th>\n",
       "      <th>7</th>\n",
       "      <th>8</th>\n",
       "      <th>9</th>\n",
       "      <th>10</th>\n",
       "      <th>...</th>\n",
       "      <th>26</th>\n",
       "      <th>27</th>\n",
       "      <th>28</th>\n",
       "      <th>29</th>\n",
       "      <th>30</th>\n",
       "      <th>31</th>\n",
       "      <th>32</th>\n",
       "      <th>33</th>\n",
       "      <th>34</th>\n",
       "      <th>35</th>\n",
       "    </tr>\n",
       "  </thead>\n",
       "  <tbody>\n",
       "    <tr>\n",
       "      <th>0</th>\n",
       "      <td>0.769725</td>\n",
       "      <td>0.838094</td>\n",
       "      <td>0.686619</td>\n",
       "      <td>0.711702</td>\n",
       "      <td>0.800989</td>\n",
       "      <td>0.892827</td>\n",
       "      <td>0.638163</td>\n",
       "      <td>0.668691</td>\n",
       "      <td>NaN</td>\n",
       "      <td>0.070942</td>\n",
       "      <td>...</td>\n",
       "      <td>0.311439</td>\n",
       "      <td>0.896759</td>\n",
       "      <td>0.355465</td>\n",
       "      <td>0.635945</td>\n",
       "      <td>0.495826</td>\n",
       "      <td>0.630361</td>\n",
       "      <td>0.65113</td>\n",
       "      <td>0.816517</td>\n",
       "      <td>0.604508</td>\n",
       "      <td>0.780848</td>\n",
       "    </tr>\n",
       "  </tbody>\n",
       "</table>\n",
       "<p>1 rows × 35 columns</p>\n",
       "</div>"
      ],
      "text/plain": [
       "          1         2         3         4         5         6         7  \\\n",
       "0  0.769725  0.838094  0.686619  0.711702  0.800989  0.892827  0.638163   \n",
       "\n",
       "          8   9        10    ...           26        27        28        29  \\\n",
       "0  0.668691 NaN  0.070942    ...     0.311439  0.896759  0.355465  0.635945   \n",
       "\n",
       "         30        31       32        33        34        35  \n",
       "0  0.495826  0.630361  0.65113  0.816517  0.604508  0.780848  \n",
       "\n",
       "[1 rows x 35 columns]"
      ]
     },
     "execution_count": 20,
     "metadata": {},
     "output_type": "execute_result"
    }
   ],
   "source": [
    "ntb = data.loc[data[\"Sektor\"] == \"Nilai Tambah Bruto\"]\n",
    "ntb = ntb.reset_index()\n",
    "del ntb[\"Sektor\"] , ntb[\"Kode\"], ntb[\"index\"]\n",
    "ntb = ntb.iloc[:, :35]\n",
    "x = ntb / jumlah\n",
    "x"
   ]
  },
  {
   "cell_type": "code",
   "execution_count": 21,
   "metadata": {},
   "outputs": [
    {
     "data": {
      "text/plain": [
       "array([[0.76972544, 0.        , 0.        , ..., 0.        , 0.        ,\n",
       "        0.        ],\n",
       "       [0.        , 0.83809397, 0.        , ..., 0.        , 0.        ,\n",
       "        0.        ],\n",
       "       [0.        , 0.        , 0.68661909, ..., 0.        , 0.        ,\n",
       "        0.        ],\n",
       "       ...,\n",
       "       [0.        , 0.        , 0.        , ..., 0.8165169 , 0.        ,\n",
       "        0.        ],\n",
       "       [0.        , 0.        , 0.        , ..., 0.        , 0.60450774,\n",
       "        0.        ],\n",
       "       [0.        , 0.        , 0.        , ..., 0.        , 0.        ,\n",
       "        0.78084777]])"
      ]
     },
     "execution_count": 21,
     "metadata": {},
     "output_type": "execute_result"
    }
   ],
   "source": [
    "n = np.array(x)\n",
    "c = np.diag(n[0])\n",
    "c"
   ]
  },
  {
   "cell_type": "markdown",
   "metadata": {},
   "source": [
    "### UdG x Pengganda"
   ]
  },
  {
   "cell_type": "code",
   "execution_count": 22,
   "metadata": {},
   "outputs": [
    {
     "data": {
      "text/plain": [
       "array([0.8336627 , 0.91345837, 0.73875067, 0.74389392, 0.80174239,\n",
       "       0.92615147, 0.64731534, 0.66971839, 0.        , 0.07240335,\n",
       "       0.44134338, 0.19667083, 0.34531285, 0.49455103, 0.50725394,\n",
       "       0.18134469, 0.18389262, 0.22034616, 0.72174896, 0.11819864,\n",
       "       0.11733691, 0.72164688, 0.61412752, 0.0746571 , 0.31451589,\n",
       "       0.31308498, 0.90065672, 0.35683311, 0.66524262, 0.49836866,\n",
       "       0.68703183, 0.71702055, 0.91758534, 0.60450774, 0.79096806])"
      ]
     },
     "execution_count": 22,
     "metadata": {},
     "output_type": "execute_result"
    }
   ],
   "source": [
    "ntambah = np.multiply(c, BL, out=np.zeros_like(aa), where=bb!=0)\n",
    "hasil7 = np.sum(ntambah, axis=0)\n",
    "hasil7"
   ]
  },
  {
   "cell_type": "code",
   "execution_count": 23,
   "metadata": {},
   "outputs": [
    {
     "data": {
      "text/plain": [
       "[<matplotlib.lines.Line2D at 0x21a91fca4a8>]"
      ]
     },
     "execution_count": 23,
     "metadata": {},
     "output_type": "execute_result"
    },
    {
     "data": {
      "image/png": "[encoded data removed]",
      "text/plain": [
       "<Figure size 720x432 with 1 Axes>"
      ]
     },
     "metadata": {},
     "output_type": "display_data"
    }
   ],
   "source": [
    "plt.figure(figsize=(10,6))\n",
    "plt.plot(hasil7)"
   ]
  },
  {
   "cell_type": "markdown",
   "metadata": {},
   "source": [
    "# Surplus Usaha"
   ]
  },
  {
   "cell_type": "code",
   "execution_count": 24,
   "metadata": {},
   "outputs": [
    {
     "data": {
      "text/html": [
       "<div>\n",
       "<style scoped>\n",
       "    .dataframe tbody tr th:only-of-type {\n",
       "        vertical-align: middle;\n",
       "    }\n",
       "\n",
       "    .dataframe tbody tr th {\n",
       "        vertical-align: top;\n",
       "    }\n",
       "\n",
       "    .dataframe thead th {\n",
       "        text-align: right;\n",
       "    }\n",
       "</style>\n",
       "<table border=\"1\" class=\"dataframe\">\n",
       "  <thead>\n",
       "    <tr style=\"text-align: right;\">\n",
       "      <th></th>\n",
       "      <th>1</th>\n",
       "      <th>2</th>\n",
       "      <th>3</th>\n",
       "      <th>4</th>\n",
       "      <th>5</th>\n",
       "      <th>6</th>\n",
       "      <th>7</th>\n",
       "      <th>8</th>\n",
       "      <th>9</th>\n",
       "      <th>10</th>\n",
       "      <th>...</th>\n",
       "      <th>26</th>\n",
       "      <th>27</th>\n",
       "      <th>28</th>\n",
       "      <th>29</th>\n",
       "      <th>30</th>\n",
       "      <th>31</th>\n",
       "      <th>32</th>\n",
       "      <th>33</th>\n",
       "      <th>34</th>\n",
       "      <th>35</th>\n",
       "    </tr>\n",
       "  </thead>\n",
       "  <tbody>\n",
       "    <tr>\n",
       "      <th>0</th>\n",
       "      <td>0.620536</td>\n",
       "      <td>0.711596</td>\n",
       "      <td>0.50794</td>\n",
       "      <td>0.553115</td>\n",
       "      <td>0.588233</td>\n",
       "      <td>0.67792</td>\n",
       "      <td>0.567081</td>\n",
       "      <td>0.366683</td>\n",
       "      <td>NaN</td>\n",
       "      <td>0.047253</td>\n",
       "      <td>...</td>\n",
       "      <td>0.11182</td>\n",
       "      <td>0.582445</td>\n",
       "      <td>0.189176</td>\n",
       "      <td>0.410532</td>\n",
       "      <td>0.230639</td>\n",
       "      <td>0.12572</td>\n",
       "      <td>0.34083</td>\n",
       "      <td>0.581678</td>\n",
       "      <td>0.0</td>\n",
       "      <td>0.310278</td>\n",
       "    </tr>\n",
       "  </tbody>\n",
       "</table>\n",
       "<p>1 rows × 35 columns</p>\n",
       "</div>"
      ],
      "text/plain": [
       "          1         2        3         4         5        6         7  \\\n",
       "0  0.620536  0.711596  0.50794  0.553115  0.588233  0.67792  0.567081   \n",
       "\n",
       "          8   9        10    ...          26        27        28        29  \\\n",
       "0  0.366683 NaN  0.047253    ...     0.11182  0.582445  0.189176  0.410532   \n",
       "\n",
       "         30       31       32        33   34        35  \n",
       "0  0.230639  0.12572  0.34083  0.581678  0.0  0.310278  \n",
       "\n",
       "[1 rows x 35 columns]"
      ]
     },
     "execution_count": 24,
     "metadata": {},
     "output_type": "execute_result"
    }
   ],
   "source": [
    "su = data.loc[data[\"Sektor\"] == \"Surplus Usaha\"]\n",
    "su = su.reset_index()\n",
    "del su[\"Sektor\"] , su[\"Kode\"], su[\"index\"]\n",
    "su = su.iloc[:, :35]\n",
    "y = su / jumlah\n",
    "y"
   ]
  },
  {
   "cell_type": "code",
   "execution_count": 25,
   "metadata": {},
   "outputs": [
    {
     "data": {
      "text/plain": [
       "array([[0.62053558, 0.        , 0.        , ..., 0.        , 0.        ,\n",
       "        0.        ],\n",
       "       [0.        , 0.71159601, 0.        , ..., 0.        , 0.        ,\n",
       "        0.        ],\n",
       "       [0.        , 0.        , 0.50794023, ..., 0.        , 0.        ,\n",
       "        0.        ],\n",
       "       ...,\n",
       "       [0.        , 0.        , 0.        , ..., 0.58167796, 0.        ,\n",
       "        0.        ],\n",
       "       [0.        , 0.        , 0.        , ..., 0.        , 0.        ,\n",
       "        0.        ],\n",
       "       [0.        , 0.        , 0.        , ..., 0.        , 0.        ,\n",
       "        0.31027763]])"
      ]
     },
     "execution_count": 25,
     "metadata": {},
     "output_type": "execute_result"
    }
   ],
   "source": [
    "n = np.array(y)\n",
    "g = np.diag(n[0])\n",
    "g"
   ]
  },
  {
   "cell_type": "markdown",
   "metadata": {},
   "source": [
    "### SU x Pengganda"
   ]
  },
  {
   "cell_type": "code",
   "execution_count": 26,
   "metadata": {},
   "outputs": [
    {
     "data": {
      "text/plain": [
       "array([ 0.67208038,  0.77558527,  0.54650561,  0.57813328,  0.58878663,\n",
       "        0.70322299,  0.57521382,  0.36724661,  0.        ,  0.04822638,\n",
       "        0.31294131,  0.14835169,  0.24550358,  0.27653348,  0.29078973,\n",
       "        0.09558119,  0.10070536,  0.10512275,  0.34480187,  0.05530481,\n",
       "        0.04116467,  0.29456961,  0.45045871,  0.03692343, -0.04711819,\n",
       "        0.11241056,  0.58497676,  0.18990418,  0.42944503,  0.23182164,\n",
       "        0.13702249,  0.37532023,  0.65367804,  0.        ,  0.31429903])"
      ]
     },
     "execution_count": 26,
     "metadata": {},
     "output_type": "execute_result"
    }
   ],
   "source": [
    "opit = np.multiply(g, BL, out=np.zeros_like(aa), where=bb!=0)\n",
    "hasil3 = np.sum(opit, axis=0)\n",
    "hasil3"
   ]
  },
  {
   "cell_type": "code",
   "execution_count": 27,
   "metadata": {},
   "outputs": [
    {
     "data": {
      "text/plain": [
       "[<matplotlib.lines.Line2D at 0x21a90ddac88>]"
      ]
     },
     "execution_count": 27,
     "metadata": {},
     "output_type": "execute_result"
    },
    {
     "data": {
      "image/png": "[encoded data removed]",
      "text/plain": [
       "<Figure size 720x432 with 1 Axes>"
      ]
     },
     "metadata": {},
     "output_type": "display_data"
    }
   ],
   "source": [
    "plt.figure(figsize=(10,6))\n",
    "plt.plot(hasil3)"
   ]
  },
  {
   "cell_type": "markdown",
   "metadata": {},
   "source": [
    "# Penyusutan"
   ]
  },
  {
   "cell_type": "code",
   "execution_count": 28,
   "metadata": {},
   "outputs": [
    {
     "data": {
      "text/html": [
       "<div>\n",
       "<style scoped>\n",
       "    .dataframe tbody tr th:only-of-type {\n",
       "        vertical-align: middle;\n",
       "    }\n",
       "\n",
       "    .dataframe tbody tr th {\n",
       "        vertical-align: top;\n",
       "    }\n",
       "\n",
       "    .dataframe thead th {\n",
       "        text-align: right;\n",
       "    }\n",
       "</style>\n",
       "<table border=\"1\" class=\"dataframe\">\n",
       "  <thead>\n",
       "    <tr style=\"text-align: right;\">\n",
       "      <th></th>\n",
       "      <th>1</th>\n",
       "      <th>2</th>\n",
       "      <th>3</th>\n",
       "      <th>4</th>\n",
       "      <th>5</th>\n",
       "      <th>6</th>\n",
       "      <th>7</th>\n",
       "      <th>8</th>\n",
       "      <th>9</th>\n",
       "      <th>10</th>\n",
       "      <th>...</th>\n",
       "      <th>26</th>\n",
       "      <th>27</th>\n",
       "      <th>28</th>\n",
       "      <th>29</th>\n",
       "      <th>30</th>\n",
       "      <th>31</th>\n",
       "      <th>32</th>\n",
       "      <th>33</th>\n",
       "      <th>34</th>\n",
       "      <th>35</th>\n",
       "    </tr>\n",
       "  </thead>\n",
       "  <tbody>\n",
       "    <tr>\n",
       "      <th>0</th>\n",
       "      <td>0.012911</td>\n",
       "      <td>0.003551</td>\n",
       "      <td>0.012498</td>\n",
       "      <td>0.013308</td>\n",
       "      <td>0.033476</td>\n",
       "      <td>0.033278</td>\n",
       "      <td>0.030741</td>\n",
       "      <td>0.080426</td>\n",
       "      <td>NaN</td>\n",
       "      <td>0.002631</td>\n",
       "      <td>...</td>\n",
       "      <td>0.024846</td>\n",
       "      <td>0.052302</td>\n",
       "      <td>0.022565</td>\n",
       "      <td>0.091577</td>\n",
       "      <td>0.099443</td>\n",
       "      <td>0.352729</td>\n",
       "      <td>0.144202</td>\n",
       "      <td>0.043891</td>\n",
       "      <td>0.029199</td>\n",
       "      <td>0.094922</td>\n",
       "    </tr>\n",
       "  </tbody>\n",
       "</table>\n",
       "<p>1 rows × 35 columns</p>\n",
       "</div>"
      ],
      "text/plain": [
       "          1         2         3         4         5         6         7  \\\n",
       "0  0.012911  0.003551  0.012498  0.013308  0.033476  0.033278  0.030741   \n",
       "\n",
       "          8   9        10    ...           26        27        28        29  \\\n",
       "0  0.080426 NaN  0.002631    ...     0.024846  0.052302  0.022565  0.091577   \n",
       "\n",
       "         30        31        32        33        34        35  \n",
       "0  0.099443  0.352729  0.144202  0.043891  0.029199  0.094922  \n",
       "\n",
       "[1 rows x 35 columns]"
      ]
     },
     "execution_count": 28,
     "metadata": {},
     "output_type": "execute_result"
    }
   ],
   "source": [
    "iai = data.loc[data[\"Sektor\"] == \"Penyusutan\"]\n",
    "iai = iai.reset_index()\n",
    "del iai[\"Sektor\"] , iai[\"Kode\"], iai[\"index\"]\n",
    "iai = iai.iloc[:, :35]\n",
    "n = iai / jumlah\n",
    "n"
   ]
  },
  {
   "cell_type": "code",
   "execution_count": 29,
   "metadata": {},
   "outputs": [
    {
     "data": {
      "text/plain": [
       "array([[0.0129106 , 0.        , 0.        , ..., 0.        , 0.        ,\n",
       "        0.        ],\n",
       "       [0.        , 0.00355074, 0.        , ..., 0.        , 0.        ,\n",
       "        0.        ],\n",
       "       [0.        , 0.        , 0.01249751, ..., 0.        , 0.        ,\n",
       "        0.        ],\n",
       "       ...,\n",
       "       [0.        , 0.        , 0.        , ..., 0.04389122, 0.        ,\n",
       "        0.        ],\n",
       "       [0.        , 0.        , 0.        , ..., 0.        , 0.02919883,\n",
       "        0.        ],\n",
       "       [0.        , 0.        , 0.        , ..., 0.        , 0.        ,\n",
       "        0.09492163]])"
      ]
     },
     "execution_count": 29,
     "metadata": {},
     "output_type": "execute_result"
    }
   ],
   "source": [
    "n = np.array(n)\n",
    "d = np.diag(n[0])\n",
    "d"
   ]
  },
  {
   "cell_type": "markdown",
   "metadata": {},
   "source": [
    "### Penyusutan x Pengganda"
   ]
  },
  {
   "cell_type": "code",
   "execution_count": 30,
   "metadata": {},
   "outputs": [
    {
     "data": {
      "text/plain": [
       "array([0.01398301, 0.00387004, 0.01344638, 0.01391032, 0.03350702,\n",
       "       0.03452054, 0.03118152, 0.08054996, 0.        , 0.00268517,\n",
       "       0.00929415, 0.00679266, 0.01049962, 0.02942815, 0.04021197,\n",
       "       0.02160693, 0.01629786, 0.01617688, 0.12538289, 0.00976108,\n",
       "       0.00834959, 0.08362022, 0.04851689, 0.00583407, 0.21453943,\n",
       "       0.02497732, 0.05252916, 0.02265233, 0.09579572, 0.09995273,\n",
       "       0.38443981, 0.15879423, 0.04932407, 0.02919883, 0.09615188])"
      ]
     },
     "execution_count": 30,
     "metadata": {},
     "output_type": "execute_result"
    }
   ],
   "source": [
    "susut = np.multiply(d, BL, out=np.zeros_like(aa), where=bb!=0)\n",
    "hasil4 = np.sum(susut, axis=0)\n",
    "hasil4"
   ]
  },
  {
   "cell_type": "code",
   "execution_count": 31,
   "metadata": {},
   "outputs": [
    {
     "data": {
      "text/plain": [
       "[<matplotlib.lines.Line2D at 0x21a90e424a8>]"
      ]
     },
     "execution_count": 31,
     "metadata": {},
     "output_type": "execute_result"
    },
    {
     "data": {
      "image/png": "[encoded data removed]",
      "text/plain": [
       "<Figure size 720x432 with 1 Axes>"
      ]
     },
     "metadata": {},
     "output_type": "display_data"
    }
   ],
   "source": [
    "plt.figure(figsize=(10,6))\n",
    "plt.plot(hasil4)"
   ]
  },
  {
   "cell_type": "markdown",
   "metadata": {},
   "source": [
    "# Pajak Tak Langung"
   ]
  },
  {
   "cell_type": "code",
   "execution_count": 32,
   "metadata": {},
   "outputs": [
    {
     "data": {
      "text/html": [
       "<div>\n",
       "<style scoped>\n",
       "    .dataframe tbody tr th:only-of-type {\n",
       "        vertical-align: middle;\n",
       "    }\n",
       "\n",
       "    .dataframe tbody tr th {\n",
       "        vertical-align: top;\n",
       "    }\n",
       "\n",
       "    .dataframe thead th {\n",
       "        text-align: right;\n",
       "    }\n",
       "</style>\n",
       "<table border=\"1\" class=\"dataframe\">\n",
       "  <thead>\n",
       "    <tr style=\"text-align: right;\">\n",
       "      <th></th>\n",
       "      <th>1</th>\n",
       "      <th>2</th>\n",
       "      <th>3</th>\n",
       "      <th>4</th>\n",
       "      <th>5</th>\n",
       "      <th>6</th>\n",
       "      <th>7</th>\n",
       "      <th>8</th>\n",
       "      <th>9</th>\n",
       "      <th>10</th>\n",
       "      <th>...</th>\n",
       "      <th>26</th>\n",
       "      <th>27</th>\n",
       "      <th>28</th>\n",
       "      <th>29</th>\n",
       "      <th>30</th>\n",
       "      <th>31</th>\n",
       "      <th>32</th>\n",
       "      <th>33</th>\n",
       "      <th>34</th>\n",
       "      <th>35</th>\n",
       "    </tr>\n",
       "  </thead>\n",
       "  <tbody>\n",
       "    <tr>\n",
       "      <th>0</th>\n",
       "      <td>0.006167</td>\n",
       "      <td>0.007741</td>\n",
       "      <td>0.004155</td>\n",
       "      <td>0.007688</td>\n",
       "      <td>0.006961</td>\n",
       "      <td>0.007962</td>\n",
       "      <td>0.006646</td>\n",
       "      <td>0.029197</td>\n",
       "      <td>NaN</td>\n",
       "      <td>0.000679</td>\n",
       "      <td>...</td>\n",
       "      <td>0.014018</td>\n",
       "      <td>0.059622</td>\n",
       "      <td>0.029329</td>\n",
       "      <td>0.009066</td>\n",
       "      <td>0.020555</td>\n",
       "      <td>0.006585</td>\n",
       "      <td>0.007827</td>\n",
       "      <td>0.024884</td>\n",
       "      <td>0.0</td>\n",
       "      <td>0.019095</td>\n",
       "    </tr>\n",
       "  </tbody>\n",
       "</table>\n",
       "<p>1 rows × 35 columns</p>\n",
       "</div>"
      ],
      "text/plain": [
       "          1         2         3         4         5         6         7  \\\n",
       "0  0.006167  0.007741  0.004155  0.007688  0.006961  0.007962  0.006646   \n",
       "\n",
       "          8   9        10    ...           26        27        28        29  \\\n",
       "0  0.029197 NaN  0.000679    ...     0.014018  0.059622  0.029329  0.009066   \n",
       "\n",
       "         30        31        32        33   34        35  \n",
       "0  0.020555  0.006585  0.007827  0.024884  0.0  0.019095  \n",
       "\n",
       "[1 rows x 35 columns]"
      ]
     },
     "execution_count": 32,
     "metadata": {},
     "output_type": "execute_result"
    }
   ],
   "source": [
    "iai = data.loc[data[\"Sektor\"] == \"Pajak Tak Langsung \"]\n",
    "iai = iai.reset_index()\n",
    "del iai[\"Sektor\"] , iai[\"Kode\"], iai[\"index\"]\n",
    "iai = iai.iloc[:, :35]\n",
    "n = iai / jumlah\n",
    "n"
   ]
  },
  {
   "cell_type": "code",
   "execution_count": 33,
   "metadata": {},
   "outputs": [
    {
     "data": {
      "text/plain": [
       "array([[0.00616706, 0.        , 0.        , ..., 0.        , 0.        ,\n",
       "        0.        ],\n",
       "       [0.        , 0.00774059, 0.        , ..., 0.        , 0.        ,\n",
       "        0.        ],\n",
       "       [0.        , 0.        , 0.00415489, ..., 0.        , 0.        ,\n",
       "        0.        ],\n",
       "       ...,\n",
       "       [0.        , 0.        , 0.        , ..., 0.02488433, 0.        ,\n",
       "        0.        ],\n",
       "       [0.        , 0.        , 0.        , ..., 0.        , 0.        ,\n",
       "        0.        ],\n",
       "       [0.        , 0.        , 0.        , ..., 0.        , 0.        ,\n",
       "        0.01909497]])"
      ]
     },
     "execution_count": 33,
     "metadata": {},
     "output_type": "execute_result"
    }
   ],
   "source": [
    "n = np.array(n)\n",
    "d = np.diag(n[0])\n",
    "d"
   ]
  },
  {
   "cell_type": "markdown",
   "metadata": {},
   "source": [
    "### PtL x Pengganda"
   ]
  },
  {
   "cell_type": "code",
   "execution_count": 34,
   "metadata": {},
   "outputs": [
    {
     "data": {
      "text/plain": [
       "array([0.00667933, 0.00843665, 0.00447035, 0.00803563, 0.00696772,\n",
       "       0.00825962, 0.00674095, 0.02924199, 0.        , 0.0006934 ,\n",
       "       0.00148345, 0.00319572, 0.00684071, 0.02313521, 0.00928869,\n",
       "       0.01124611, 0.01012671, 0.01572209, 0.08699205, 0.01310507,\n",
       "       0.01405235, 0.07427066, 0.06135555, 0.00631538, 0.00044241,\n",
       "       0.01409239, 0.05988137, 0.02944232, 0.00948393, 0.0206606 ,\n",
       "       0.00717727, 0.00861943, 0.02796451, 0.        , 0.01934246])"
      ]
     },
     "execution_count": 34,
     "metadata": {},
     "output_type": "execute_result"
    }
   ],
   "source": [
    "pajak = np.multiply(d, BL, out=np.zeros_like(aa), where=bb!=0)\n",
    "hasil5 = np.sum(pajak, axis=0)\n",
    "hasil5"
   ]
  },
  {
   "cell_type": "code",
   "execution_count": 35,
   "metadata": {},
   "outputs": [
    {
     "data": {
      "text/plain": [
       "[<matplotlib.lines.Line2D at 0x21a90ea8fd0>]"
      ]
     },
     "execution_count": 35,
     "metadata": {},
     "output_type": "execute_result"
    },
    {
     "data": {
      "image/png": "[encoded data removed]",
      "text/plain": [
       "<Figure size 720x432 with 1 Axes>"
      ]
     },
     "metadata": {},
     "output_type": "display_data"
    }
   ],
   "source": [
    "plt.figure(figsize=(10,6))\n",
    "plt.plot(hasil5)"
   ]
  },
  {
   "cell_type": "markdown",
   "metadata": {},
   "source": [
    "# Summarize"
   ]
  },
  {
   "cell_type": "code",
   "execution_count": 36,
   "metadata": {},
   "outputs": [
    {
     "data": {
      "text/html": [
       "<div>\n",
       "<style scoped>\n",
       "    .dataframe tbody tr th:only-of-type {\n",
       "        vertical-align: middle;\n",
       "    }\n",
       "\n",
       "    .dataframe tbody tr th {\n",
       "        vertical-align: top;\n",
       "    }\n",
       "\n",
       "    .dataframe thead th {\n",
       "        text-align: right;\n",
       "    }\n",
       "</style>\n",
       "<table border=\"1\" class=\"dataframe\">\n",
       "  <thead>\n",
       "    <tr style=\"text-align: right;\">\n",
       "      <th></th>\n",
       "      <th>Impor</th>\n",
       "      <th>Upah</th>\n",
       "      <th>Surplus Usaha</th>\n",
       "      <th>Penyusutan</th>\n",
       "      <th>Pajak tL</th>\n",
       "      <th>Nilai Tambah Bruto</th>\n",
       "    </tr>\n",
       "  </thead>\n",
       "  <tbody>\n",
       "    <tr>\n",
       "      <th>0</th>\n",
       "      <td>0.130133</td>\n",
       "      <td>0.140920</td>\n",
       "      <td>0.672080</td>\n",
       "      <td>0.672080</td>\n",
       "      <td>0.013983</td>\n",
       "      <td>0.833663</td>\n",
       "    </tr>\n",
       "    <tr>\n",
       "      <th>1</th>\n",
       "      <td>0.006603</td>\n",
       "      <td>0.125566</td>\n",
       "      <td>0.775585</td>\n",
       "      <td>0.775585</td>\n",
       "      <td>0.003870</td>\n",
       "      <td>0.913458</td>\n",
       "    </tr>\n",
       "    <tr>\n",
       "      <th>2</th>\n",
       "      <td>0.190797</td>\n",
       "      <td>0.174328</td>\n",
       "      <td>0.546506</td>\n",
       "      <td>0.546506</td>\n",
       "      <td>0.013446</td>\n",
       "      <td>0.738751</td>\n",
       "    </tr>\n",
       "    <tr>\n",
       "      <th>3</th>\n",
       "      <td>0.052968</td>\n",
       "      <td>0.143815</td>\n",
       "      <td>0.578133</td>\n",
       "      <td>0.578133</td>\n",
       "      <td>0.013910</td>\n",
       "      <td>0.743894</td>\n",
       "    </tr>\n",
       "    <tr>\n",
       "      <th>4</th>\n",
       "      <td>0.073885</td>\n",
       "      <td>0.172481</td>\n",
       "      <td>0.588787</td>\n",
       "      <td>0.588787</td>\n",
       "      <td>0.033507</td>\n",
       "      <td>0.801742</td>\n",
       "    </tr>\n",
       "    <tr>\n",
       "      <th>5</th>\n",
       "      <td>0.010111</td>\n",
       "      <td>0.180148</td>\n",
       "      <td>0.703223</td>\n",
       "      <td>0.703223</td>\n",
       "      <td>0.034521</td>\n",
       "      <td>0.926151</td>\n",
       "    </tr>\n",
       "    <tr>\n",
       "      <th>6</th>\n",
       "      <td>0.072295</td>\n",
       "      <td>0.034179</td>\n",
       "      <td>0.575214</td>\n",
       "      <td>0.575214</td>\n",
       "      <td>0.031182</td>\n",
       "      <td>0.647315</td>\n",
       "    </tr>\n",
       "    <tr>\n",
       "      <th>7</th>\n",
       "      <td>0.228453</td>\n",
       "      <td>0.192680</td>\n",
       "      <td>0.367247</td>\n",
       "      <td>0.367247</td>\n",
       "      <td>0.080550</td>\n",
       "      <td>0.669718</td>\n",
       "    </tr>\n",
       "    <tr>\n",
       "      <th>8</th>\n",
       "      <td>0.000000</td>\n",
       "      <td>0.000000</td>\n",
       "      <td>0.000000</td>\n",
       "      <td>0.000000</td>\n",
       "      <td>0.000000</td>\n",
       "      <td>0.000000</td>\n",
       "    </tr>\n",
       "    <tr>\n",
       "      <th>9</th>\n",
       "      <td>0.030118</td>\n",
       "      <td>0.020798</td>\n",
       "      <td>0.048226</td>\n",
       "      <td>0.048226</td>\n",
       "      <td>0.002685</td>\n",
       "      <td>0.072403</td>\n",
       "    </tr>\n",
       "    <tr>\n",
       "      <th>10</th>\n",
       "      <td>0.001773</td>\n",
       "      <td>0.117624</td>\n",
       "      <td>0.312941</td>\n",
       "      <td>0.312941</td>\n",
       "      <td>0.009294</td>\n",
       "      <td>0.441343</td>\n",
       "    </tr>\n",
       "    <tr>\n",
       "      <th>11</th>\n",
       "      <td>0.008939</td>\n",
       "      <td>0.038331</td>\n",
       "      <td>0.148352</td>\n",
       "      <td>0.148352</td>\n",
       "      <td>0.006793</td>\n",
       "      <td>0.196671</td>\n",
       "    </tr>\n",
       "    <tr>\n",
       "      <th>12</th>\n",
       "      <td>0.302372</td>\n",
       "      <td>0.082469</td>\n",
       "      <td>0.245504</td>\n",
       "      <td>0.245504</td>\n",
       "      <td>0.010500</td>\n",
       "      <td>0.345313</td>\n",
       "    </tr>\n",
       "    <tr>\n",
       "      <th>13</th>\n",
       "      <td>0.395333</td>\n",
       "      <td>0.165454</td>\n",
       "      <td>0.276533</td>\n",
       "      <td>0.276533</td>\n",
       "      <td>0.029428</td>\n",
       "      <td>0.494551</td>\n",
       "    </tr>\n",
       "    <tr>\n",
       "      <th>14</th>\n",
       "      <td>0.333586</td>\n",
       "      <td>0.166964</td>\n",
       "      <td>0.290790</td>\n",
       "      <td>0.290790</td>\n",
       "      <td>0.040212</td>\n",
       "      <td>0.507254</td>\n",
       "    </tr>\n",
       "    <tr>\n",
       "      <th>15</th>\n",
       "      <td>0.619795</td>\n",
       "      <td>0.052910</td>\n",
       "      <td>0.095581</td>\n",
       "      <td>0.095581</td>\n",
       "      <td>0.021607</td>\n",
       "      <td>0.181345</td>\n",
       "    </tr>\n",
       "    <tr>\n",
       "      <th>16</th>\n",
       "      <td>0.562005</td>\n",
       "      <td>0.056763</td>\n",
       "      <td>0.100705</td>\n",
       "      <td>0.100705</td>\n",
       "      <td>0.016298</td>\n",
       "      <td>0.183893</td>\n",
       "    </tr>\n",
       "    <tr>\n",
       "      <th>17</th>\n",
       "      <td>0.576142</td>\n",
       "      <td>0.083324</td>\n",
       "      <td>0.105123</td>\n",
       "      <td>0.105123</td>\n",
       "      <td>0.016177</td>\n",
       "      <td>0.220346</td>\n",
       "    </tr>\n",
       "    <tr>\n",
       "      <th>18</th>\n",
       "      <td>0.069680</td>\n",
       "      <td>0.164572</td>\n",
       "      <td>0.344802</td>\n",
       "      <td>0.344802</td>\n",
       "      <td>0.125383</td>\n",
       "      <td>0.721749</td>\n",
       "    </tr>\n",
       "    <tr>\n",
       "      <th>19</th>\n",
       "      <td>0.711835</td>\n",
       "      <td>0.040028</td>\n",
       "      <td>0.055305</td>\n",
       "      <td>0.055305</td>\n",
       "      <td>0.009761</td>\n",
       "      <td>0.118199</td>\n",
       "    </tr>\n",
       "    <tr>\n",
       "      <th>20</th>\n",
       "      <td>0.593417</td>\n",
       "      <td>0.053770</td>\n",
       "      <td>0.041165</td>\n",
       "      <td>0.041165</td>\n",
       "      <td>0.008350</td>\n",
       "      <td>0.117337</td>\n",
       "    </tr>\n",
       "    <tr>\n",
       "      <th>21</th>\n",
       "      <td>0.153394</td>\n",
       "      <td>0.269186</td>\n",
       "      <td>0.294570</td>\n",
       "      <td>0.294570</td>\n",
       "      <td>0.083620</td>\n",
       "      <td>0.721647</td>\n",
       "    </tr>\n",
       "    <tr>\n",
       "      <th>22</th>\n",
       "      <td>0.320255</td>\n",
       "      <td>0.053796</td>\n",
       "      <td>0.450459</td>\n",
       "      <td>0.450459</td>\n",
       "      <td>0.048517</td>\n",
       "      <td>0.614128</td>\n",
       "    </tr>\n",
       "    <tr>\n",
       "      <th>23</th>\n",
       "      <td>0.894931</td>\n",
       "      <td>0.025584</td>\n",
       "      <td>0.036923</td>\n",
       "      <td>0.036923</td>\n",
       "      <td>0.005834</td>\n",
       "      <td>0.074657</td>\n",
       "    </tr>\n",
       "    <tr>\n",
       "      <th>24</th>\n",
       "      <td>0.543360</td>\n",
       "      <td>0.146652</td>\n",
       "      <td>-0.047118</td>\n",
       "      <td>-0.047118</td>\n",
       "      <td>0.214539</td>\n",
       "      <td>0.314516</td>\n",
       "    </tr>\n",
       "    <tr>\n",
       "      <th>25</th>\n",
       "      <td>0.143930</td>\n",
       "      <td>0.161605</td>\n",
       "      <td>0.112411</td>\n",
       "      <td>0.112411</td>\n",
       "      <td>0.024977</td>\n",
       "      <td>0.313085</td>\n",
       "    </tr>\n",
       "    <tr>\n",
       "      <th>26</th>\n",
       "      <td>0.004487</td>\n",
       "      <td>0.203269</td>\n",
       "      <td>0.584977</td>\n",
       "      <td>0.584977</td>\n",
       "      <td>0.052529</td>\n",
       "      <td>0.900657</td>\n",
       "    </tr>\n",
       "    <tr>\n",
       "      <th>27</th>\n",
       "      <td>0.046266</td>\n",
       "      <td>0.114834</td>\n",
       "      <td>0.189904</td>\n",
       "      <td>0.189904</td>\n",
       "      <td>0.022652</td>\n",
       "      <td>0.356833</td>\n",
       "    </tr>\n",
       "    <tr>\n",
       "      <th>28</th>\n",
       "      <td>0.135515</td>\n",
       "      <td>0.130518</td>\n",
       "      <td>0.429445</td>\n",
       "      <td>0.429445</td>\n",
       "      <td>0.095796</td>\n",
       "      <td>0.665243</td>\n",
       "    </tr>\n",
       "    <tr>\n",
       "      <th>29</th>\n",
       "      <td>0.165028</td>\n",
       "      <td>0.145934</td>\n",
       "      <td>0.231822</td>\n",
       "      <td>0.231822</td>\n",
       "      <td>0.099953</td>\n",
       "      <td>0.498369</td>\n",
       "    </tr>\n",
       "    <tr>\n",
       "      <th>30</th>\n",
       "      <td>0.004722</td>\n",
       "      <td>0.158392</td>\n",
       "      <td>0.137022</td>\n",
       "      <td>0.137022</td>\n",
       "      <td>0.384440</td>\n",
       "      <td>0.687032</td>\n",
       "    </tr>\n",
       "    <tr>\n",
       "      <th>31</th>\n",
       "      <td>0.108210</td>\n",
       "      <td>0.174287</td>\n",
       "      <td>0.375320</td>\n",
       "      <td>0.375320</td>\n",
       "      <td>0.158794</td>\n",
       "      <td>0.717021</td>\n",
       "    </tr>\n",
       "    <tr>\n",
       "      <th>32</th>\n",
       "      <td>0.001967</td>\n",
       "      <td>0.186619</td>\n",
       "      <td>0.653678</td>\n",
       "      <td>0.653678</td>\n",
       "      <td>0.049324</td>\n",
       "      <td>0.917585</td>\n",
       "    </tr>\n",
       "    <tr>\n",
       "      <th>33</th>\n",
       "      <td>0.232102</td>\n",
       "      <td>0.575309</td>\n",
       "      <td>0.000000</td>\n",
       "      <td>0.000000</td>\n",
       "      <td>0.029199</td>\n",
       "      <td>0.604508</td>\n",
       "    </tr>\n",
       "    <tr>\n",
       "      <th>34</th>\n",
       "      <td>0.008950</td>\n",
       "      <td>0.361175</td>\n",
       "      <td>0.314299</td>\n",
       "      <td>0.314299</td>\n",
       "      <td>0.096152</td>\n",
       "      <td>0.790968</td>\n",
       "    </tr>\n",
       "  </tbody>\n",
       "</table>\n",
       "</div>"
      ],
      "text/plain": [
       "       Impor      Upah  Surplus Usaha  Penyusutan  Pajak tL  \\\n",
       "0   0.130133  0.140920       0.672080    0.672080  0.013983   \n",
       "1   0.006603  0.125566       0.775585    0.775585  0.003870   \n",
       "2   0.190797  0.174328       0.546506    0.546506  0.013446   \n",
       "3   0.052968  0.143815       0.578133    0.578133  0.013910   \n",
       "4   0.073885  0.172481       0.588787    0.588787  0.033507   \n",
       "5   0.010111  0.180148       0.703223    0.703223  0.034521   \n",
       "6   0.072295  0.034179       0.575214    0.575214  0.031182   \n",
       "7   0.228453  0.192680       0.367247    0.367247  0.080550   \n",
       "8   0.000000  0.000000       0.000000    0.000000  0.000000   \n",
       "9   0.030118  0.020798       0.048226    0.048226  0.002685   \n",
       "10  0.001773  0.117624       0.312941    0.312941  0.009294   \n",
       "11  0.008939  0.038331       0.148352    0.148352  0.006793   \n",
       "12  0.302372  0.082469       0.245504    0.245504  0.010500   \n",
       "13  0.395333  0.165454       0.276533    0.276533  0.029428   \n",
       "14  0.333586  0.166964       0.290790    0.290790  0.040212   \n",
       "15  0.619795  0.052910       0.095581    0.095581  0.021607   \n",
       "16  0.562005  0.056763       0.100705    0.100705  0.016298   \n",
       "17  0.576142  0.083324       0.105123    0.105123  0.016177   \n",
       "18  0.069680  0.164572       0.344802    0.344802  0.125383   \n",
       "19  0.711835  0.040028       0.055305    0.055305  0.009761   \n",
       "20  0.593417  0.053770       0.041165    0.041165  0.008350   \n",
       "21  0.153394  0.269186       0.294570    0.294570  0.083620   \n",
       "22  0.320255  0.053796       0.450459    0.450459  0.048517   \n",
       "23  0.894931  0.025584       0.036923    0.036923  0.005834   \n",
       "24  0.543360  0.146652      -0.047118   -0.047118  0.214539   \n",
       "25  0.143930  0.161605       0.112411    0.112411  0.024977   \n",
       "26  0.004487  0.203269       0.584977    0.584977  0.052529   \n",
       "27  0.046266  0.114834       0.189904    0.189904  0.022652   \n",
       "28  0.135515  0.130518       0.429445    0.429445  0.095796   \n",
       "29  0.165028  0.145934       0.231822    0.231822  0.099953   \n",
       "30  0.004722  0.158392       0.137022    0.137022  0.384440   \n",
       "31  0.108210  0.174287       0.375320    0.375320  0.158794   \n",
       "32  0.001967  0.186619       0.653678    0.653678  0.049324   \n",
       "33  0.232102  0.575309       0.000000    0.000000  0.029199   \n",
       "34  0.008950  0.361175       0.314299    0.314299  0.096152   \n",
       "\n",
       "    Nilai Tambah Bruto  \n",
       "0             0.833663  \n",
       "1             0.913458  \n",
       "2             0.738751  \n",
       "3             0.743894  \n",
       "4             0.801742  \n",
       "5             0.926151  \n",
       "6             0.647315  \n",
       "7             0.669718  \n",
       "8             0.000000  \n",
       "9             0.072403  \n",
       "10            0.441343  \n",
       "11            0.196671  \n",
       "12            0.345313  \n",
       "13            0.494551  \n",
       "14            0.507254  \n",
       "15            0.181345  \n",
       "16            0.183893  \n",
       "17            0.220346  \n",
       "18            0.721749  \n",
       "19            0.118199  \n",
       "20            0.117337  \n",
       "21            0.721647  \n",
       "22            0.614128  \n",
       "23            0.074657  \n",
       "24            0.314516  \n",
       "25            0.313085  \n",
       "26            0.900657  \n",
       "27            0.356833  \n",
       "28            0.665243  \n",
       "29            0.498369  \n",
       "30            0.687032  \n",
       "31            0.717021  \n",
       "32            0.917585  \n",
       "33            0.604508  \n",
       "34            0.790968  "
      ]
     },
     "execution_count": 36,
     "metadata": {},
     "output_type": "execute_result"
    }
   ],
   "source": [
    "ok = {'Impor': hasil1, 'Upah': hasil2, \"Surplus Usaha\": hasil3, \"Penyusutan\" : hasil3, \"Pajak tL\" : hasil4, \"Nilai Tambah Bruto\": hasil7}\n",
    "summ = pd.DataFrame(data=ok)\n",
    "summ.to_csv(\"Multiplier.csv\")\n",
    "summ"
   ]
  }
 ],
 "metadata": {
  "kernelspec": {
   "display_name": "Python 3",
   "language": "python",
   "name": "python3"
  },
  "language_info": {
   "codemirror_mode": {
    "name": "ipython",
    "version": 3
   },
   "file_extension": ".py",
   "mimetype": "text/x-python",
   "name": "python",
   "nbconvert_exporter": "python",
   "pygments_lexer": "ipython3",
   "version": "3.6.5"
  }
 },
 "nbformat": 4,
 "nbformat_minor": 2
}
